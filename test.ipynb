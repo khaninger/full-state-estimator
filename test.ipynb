{
 "cells": [
  {
   "cell_type": "code",
   "execution_count": null,
   "metadata": {},
   "outputs": [],
   "source": [
    "%%bash\n",
    "source urdf/devel/setup.bash\n",
    "roslaunch ur_description ur5_upload.launch"
   ]
  },
  {
   "cell_type": "code",
   "execution_count": 7,
   "metadata": {},
   "outputs": [
    {
     "name": "stdout",
     "output_type": "stream",
     "text": [
      "[1.0888, -13.242, 7.59057, 0.188264, 0.00229936, 0.000330444]\n",
      "\n",
      "[[-2.26844, -2.67023, -0.654803, 0.0704441, 0.00512223, -5.21527e-18], \n",
      " [-0.290572, -4.15863, -1.0198, 0.10971, -0.0110586, 0], \n",
      " [0, -1.75183, 0.643288, 0.0289743, -0.000931965, 0], \n",
      " [0.0366164, -1.01684, -0.385327, 0.0306789, -0.00385343, -0.000119533], \n",
      " [0.159628, 0.602685, 0.245988, -0.0184144, -0.00209719, -5.4044e-05], \n",
      " [0.22828, 0.0554358, -0.00850957, -0.00352256, 0.003706, -1.56887e-05]]\n"
     ]
    }
   ],
   "source": [
    "import pinocchio as pin\n",
    "import numpy as np\n",
    "import casadi as ca\n",
    "import casadi_kin_dyn\n",
    "#import roslib; roslib.load_manifest('urdfdom_py')\n",
    "#from urdf_parser_py.urdf import URDF\n",
    "import rospy\n",
    "\n",
    "\n",
    "#robot = URDF.from_xml_file(\"urdf/src/ur_description/urdf/ur5_robot.urdf\")\n",
    "#print(type(robot))\n",
    "#root = \"urdf/src/ur_description/\"\n",
    "#with open(root+\"urdf/ur5_robot.urdf\", \"r\") as f:\n",
    "#    data = f.readlines()\n",
    "#model = pin.buildModelFromUrdf(root+\"urdf/ur5_robot.urdf\")\n",
    "\n",
    "# worked: use roslaunch to load the UR5 URDF into robot_description\n",
    "\n",
    "urdf = rospy.get_param('robot_description') # get urdf as string\n",
    "#mod = pin.buildModelFromUrdf('urdf/src/ur_description/urdf/ur5_robot.urdf')\n",
    "kindyn = casadi_kin_dyn.pycasadi_kin_dyn.CasadiKinDyn(urdf) # construct main class\n",
    "\n",
    "# Forward kinematics\n",
    "fk_str = kindyn.fk('base_link')\n",
    "fk = ca.Function.deserialize(fk_str)\n",
    "\n",
    "# Inverse dynamics\n",
    "id_str = kindyn.rnea()\n",
    "id = ca.Function.deserialize(id_str)\n",
    "\n",
    "q = np.ones(kindyn.nq())\n",
    "qd = 0.1*np.ones(kindyn.nq())\n",
    "print(id(q, qd, q))\n",
    "\n",
    "# Mass matrix\n",
    "massmat_str = kindyn.ccrba()\n",
    "massmat = ca.Function.deserialize(massmat_str)\n",
    "print(massmat(q))\n"
   ]
  }
 ],
 "metadata": {
  "kernelspec": {
   "display_name": "Python 3 (ipykernel)",
   "language": "python",
   "name": "python3"
  },
  "language_info": {
   "codemirror_mode": {
    "name": "ipython",
    "version": 3
   },
   "file_extension": ".py",
   "mimetype": "text/x-python",
   "name": "python",
   "nbconvert_exporter": "python",
   "pygments_lexer": "ipython3",
   "version": "3.8.10"
  }
 },
 "nbformat": 4,
 "nbformat_minor": 4
}
