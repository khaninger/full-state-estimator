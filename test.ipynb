{
 "cells": [
  {
   "cell_type": "code",
   "execution_count": 46,
   "metadata": {},
   "outputs": [
    {
     "name": "stdout",
     "output_type": "stream",
     "text": [
      "forward_kinematics:(q[6])->(ee_pos[3],ee_rot[3x3]) SXFunction\n",
      "[-0.392704, -14.1707, 8.03397, 0.29241, 0.0141901, 0.000317167]\n",
      "\n",
      "[[-2.26844, -2.67023, -0.654803, 0.0704441, 0.00512223, 0], \n",
      " [-0.290572, -4.15863, -1.0198, 0.10971, -0.0110586, 0], \n",
      " [0, -1.75183, 0.643288, 0.0289743, -0.000931965, 0], \n",
      " [0.0366164, -1.01684, -0.385327, 0.0306789, -0.00385343, -0.000119533], \n",
      " [0.159628, 0.602685, 0.245988, -0.0184144, -0.00209719, -5.4044e-05], \n",
      " [0.22828, 0.0554358, -0.00850957, -0.00352256, 0.003706, -1.56887e-05]]\n"
     ]
    }
   ],
   "source": [
    "import pinocchio as pin\n",
    "import numpy as np\n",
    "import casadi as ca\n",
    "import casadi_kin_dyn\n",
    "#import roslib; roslib.load_manifest('urdfdom_py')\n",
    "#from urdf_parser_py.urdf import URDF\n",
    "import rospy\n",
    "\n",
    "\n",
    "#robot = URDF.from_xml_file(\"urdf/src/ur_description/urdf/ur5_robot.urdf\")\n",
    "#print(type(robot))\n",
    "#root = \"urdf/src/ur_description/\"\n",
    "#with open(root+\"urdf/ur5_robot.urdf\", \"r\") as f:\n",
    "#    data = f.readlines()\n",
    "#model = pin.buildModelFromUrdf(root+\"urdf/ur5_robot.urdf\")\n",
    "\n",
    "# worked: use roslaunch to load the UR5 URDF into robot_description\n",
    "\n",
    "urdf = rospy.get_param('robot_description') # get urdf as string\n",
    "kindyn = casadi_kin_dyn.pycasadi_kin_dyn.CasadiKinDyn(urdf) # construct main class\n",
    "\n",
    "\n",
    "\n",
    "fk_str = kindyn.fk('base_link')\n",
    "fk = ca.Function.deserialize(fk_str)\n",
    "print(fk)\n",
    "\n",
    "id_str = kindyn.rnea()\n",
    "id = ca.Function.deserialize(id_str)\n",
    "\n",
    "q = np.ones(kindyn.nq())\n",
    "\n",
    "\n",
    "print(id(q, q, q))\n",
    "\n",
    "massmat_str = kindyn.ccrba()\n",
    "massmat = ca.Function.deserialize(massmat_str)\n",
    "\n",
    "print(massmat(q))\n",
    "# probably need to source the ur_description package \n",
    "# and run: rosrun xacro xacro --inorder -o ur5_robot.urdf ur5_robot.urdf.xacro\n",
    "#model = pin.buildSampleModelHumanoidRandom()\n",
    "#data = model.createData()\n",
    " \n",
    "#model.lowerPositionLimit = -np.ones((model.nq,1))\n",
    "#model.upperPositionLimit = np.ones((model.nq,1))\n",
    "\n",
    "#q = ca.SX.sym('q', model.nq)\n",
    "#v = ca.SX.sym('v', model.nv)\n",
    "#a = ca.SX.sym('a', model.nv)\n"
   ]
  }
 ],
 "metadata": {
  "kernelspec": {
   "display_name": "Python 3",
   "language": "python",
   "name": "python3"
  },
  "language_info": {
   "codemirror_mode": {
    "name": "ipython",
    "version": 3
   },
   "file_extension": ".py",
   "mimetype": "text/x-python",
   "name": "python",
   "nbconvert_exporter": "python",
   "pygments_lexer": "ipython3",
   "version": "3.6.5"
  }
 },
 "nbformat": 4,
 "nbformat_minor": 4
}
