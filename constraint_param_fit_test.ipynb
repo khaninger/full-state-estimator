{
 "cells": [
  {
   "cell_type": "code",
   "execution_count": 1,
   "id": "19bf1c8a",
   "metadata": {},
   "outputs": [],
   "source": [
    "%load_ext autoreload\n",
    "%autoreload 2"
   ]
  },
  {
   "cell_type": "code",
   "execution_count": 2,
   "id": "67cf9f68",
   "metadata": {},
   "outputs": [],
   "source": [
    "### Generate some nice data\n",
    "### rotating about x and y axis\n",
    "\n",
    "import numpy as np\n",
    "from rotation_helpers import xyz_to_rotation\n",
    "\n",
    "rest_pt = np.array([0.1, 0.2, 0.3])\n",
    "pt = np.array([0., 0., 0.5])\n",
    "\n",
    "Tmats = []\n",
    "\n",
    "for x_rot in np.linspace(-0.3,0.3,5):\n",
    "    for y_rot in np.linspace(-0.3,0.3,5):\n",
    "        rotation = np.array([x_rot, y_rot, 0])\n",
    "        new_rotmat = xyz_to_rotation(rotation)\n",
    "        new_pt = new_rotmat@pt+rest_pt\n",
    "        Tmat = np.eye(4)\n",
    "        Tmat[:3,3] = np.squeeze(new_pt)\n",
    "        Tmat[:3,:3] = new_rotmat\n",
    "        Tmats.append(Tmat)\n",
    "        \n",
    "#print(Tmats[3])\n",
    "#print(Tmats[15])"
   ]
  },
  {
   "cell_type": "code",
   "execution_count": 9,
   "id": "77a7f42e",
   "metadata": {
    "scrolled": false
   },
   "outputs": [
    {
     "name": "stdout",
     "output_type": "stream",
     "text": [
      "Initializing a PointConstraint with following params:\n",
      "** Decision variables **\n",
      "pt:\n",
      ": [pt_0, pt_1, pt_2]\n",
      "rest_pt:\n",
      ": [rest_pt_0, rest_pt_1, rest_pt_2]\n",
      "\n",
      "\n",
      "******************************************************************************\n",
      "This program contains Ipopt, a library for large-scale nonlinear optimization.\n",
      " Ipopt is released as open source code under the Eclipse Public License (EPL).\n",
      "         For more information visit http://projects.coin-or.org/Ipopt\n",
      "******************************************************************************\n",
      "\n",
      "This is Ipopt version 3.11.9, running with linear solver mumps.\n",
      "NOTE: Other linear solvers might be more efficient (see Ipopt documentation).\n",
      "\n",
      "Number of nonzeros in equality constraint Jacobian...:        0\n",
      "Number of nonzeros in inequality constraint Jacobian.:        0\n",
      "Number of nonzeros in Lagrangian Hessian.............:       21\n",
      "\n",
      "Total number of variables............................:        6\n",
      "                     variables with only lower bounds:        0\n",
      "                variables with lower and upper bounds:        0\n",
      "                     variables with only upper bounds:        0\n",
      "Total number of equality constraints.................:        0\n",
      "Total number of inequality constraints...............:        0\n",
      "        inequality constraints with only lower bounds:        0\n",
      "   inequality constraints with lower and upper bounds:        0\n",
      "        inequality constraints with only upper bounds:        0\n",
      "\n",
      "iter    objective    inf_pr   inf_du lg(mu)  ||d||  lg(rg) alpha_du alpha_pr  ls\n",
      "   0  2.0553283e+01 0.00e+00 2.39e+01  -1.0 0.00e+00    -  0.00e+00 0.00e+00   0\n",
      "   1  1.2415900e+01 0.00e+00 2.39e+01  -1.0 2.89e+16    -  1.00e+00 2.78e-17f 56\n",
      "   2  8.2472881e+00 0.00e+00 2.39e+01  -1.0 2.64e+05  -4.0 1.00e+00 1.91e-06f 20\n",
      "   3  7.2605644e+00 0.00e+00 2.39e+01  -1.0 7.91e+05  -4.5 1.00e+00 4.77e-07f 22\n",
      "   4  4.3717810e+00 0.00e+00 2.39e+01  -1.0 2.37e+06  -5.0 1.00e+00 1.19e-07f 24\n",
      "   5  4.3528842e+00 0.00e+00 2.39e+01  -1.0 7.12e+06  -5.4 1.00e+00 2.98e-08f 26\n",
      "   6  2.1906598e+00 0.00e+00 2.39e+01  -1.0 2.14e+07  -5.9 1.00e+00 7.45e-09f 28\n",
      "   7  2.6317781e-01 0.00e+00 2.39e+01  -1.0 6.41e+07  -6.4 1.00e+00 9.31e-10f 31\n",
      "   8  1.9691894e-01 0.00e+00 2.39e+01  -1.0 1.92e+08  -6.9 1.00e+00 5.82e-11f 35\n",
      "   9  1.4815405e-01 0.00e+00 2.39e+01  -1.0 5.77e+08  -7.3 1.00e+00 1.46e-11f 37\n",
      "iter    objective    inf_pr   inf_du lg(mu)  ||d||  lg(rg) alpha_du alpha_pr  ls\n",
      "  10  8.4388289e-03 0.00e+00 2.39e+01  -1.0 1.37e+14    -  1.00e+00 2.78e-17f 56\n",
      "  11  7.1163605e+10 0.00e+00 2.39e+01  -1.0 1.73e+09  -7.8 1.00e+00 1.00e+00w  1\n",
      "  12  1.6884170e+11 0.00e+00 2.38e+01  -1.0 4.76e+09  -8.3 1.00e+00 1.00e+00w  1\n",
      "  13  5.5324251e+11 0.00e+00 2.38e+01  -1.0 1.42e+10  -8.8 1.00e+00 1.00e+00w  1\n",
      "Restoration phase is called at point that is almost feasible,\n",
      "  with constraint violation 0.000000e+00. Abort.\n",
      "\n",
      "Number of Iterations....: 13\n",
      "\n",
      "                                   (scaled)                 (unscaled)\n",
      "Objective...............:   8.4388288828355241e-03    8.4388288828355241e-03\n",
      "Dual infeasibility......:   2.3902435280493538e+01    2.3902435280493538e+01\n",
      "Constraint violation....:   0.0000000000000000e+00    0.0000000000000000e+00\n",
      "Complementarity.........:   0.0000000000000000e+00    0.0000000000000000e+00\n",
      "Overall NLP error.......:   2.3902435280493538e+01    2.3902435280493538e+01\n",
      "\n",
      "\n",
      "Number of objective function evaluations             = 401\n",
      "Number of objective gradient evaluations             = 15\n",
      "Number of equality constraint evaluations            = 0\n",
      "Number of inequality constraint evaluations          = 0\n",
      "Number of equality constraint Jacobian evaluations   = 0\n",
      "Number of inequality constraint Jacobian evaluations = 0\n",
      "Number of Lagrangian Hessian evaluations             = 14\n",
      "Total CPU secs in IPOPT (w/o function evaluations)   =      0.016\n",
      "Total CPU secs in NLP function evaluations           =      0.000\n",
      "\n",
      "EXIT: Restoration Failed!\n",
      "      solver  :   t_proc      (avg)   t_wall      (avg)    n_eval\n",
      "       nlp_f  |        0 (       0) 777.20us (  1.94us)       401\n",
      "  nlp_grad_f  |        0 (       0)  67.50us (  4.22us)        16\n",
      "  nlp_hess_l  |        0 (       0) 193.90us ( 13.85us)        14\n",
      "       total  |  31.25ms ( 31.25ms)  25.72ms ( 25.72ms)         1\n",
      "** Decision variables **\n",
      "pt:\n",
      ": [ 1.34198976e-07  2.92157154e-07 -4.99794758e-01]\n",
      "rest_pt:\n",
      ": [0.09995908 0.19991818 0.29987678]\n",
      "\n"
     ]
    }
   ],
   "source": [
    "from constraint import PointConstraint\n",
    "constraint = PointConstraint()\n",
    "constraint.fit(Tmats)"
   ]
  },
  {
   "cell_type": "code",
   "execution_count": null,
   "id": "cc36654c",
   "metadata": {},
   "outputs": [],
   "source": []
  }
 ],
 "metadata": {
  "kernelspec": {
   "display_name": "Python 3 (ipykernel)",
   "language": "python",
   "name": "python3"
  },
  "language_info": {
   "codemirror_mode": {
    "name": "ipython",
    "version": 3
   },
   "file_extension": ".py",
   "mimetype": "text/x-python",
   "name": "python",
   "nbconvert_exporter": "python",
   "pygments_lexer": "ipython3",
   "version": "3.8.10"
  }
 },
 "nbformat": 4,
 "nbformat_minor": 5
}
