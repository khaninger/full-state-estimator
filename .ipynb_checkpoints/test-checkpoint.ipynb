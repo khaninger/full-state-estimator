{
 "cells": [
  {
   "cell_type": "code",
   "execution_count": null,
   "metadata": {},
   "outputs": [
    {
     "name": "stderr",
     "output_type": "stream",
     "text": [
      "xacro: in-order processing became default in ROS Melodic. You can drop the option.\n"
     ]
    }
   ],
   "source": [
    "%%bash\n",
    "source urdf/devel/setup.bash\n",
    "roslaunch ur_description ur5_upload.launch"
   ]
  },
  {
   "cell_type": "code",
   "execution_count": null,
   "metadata": {},
   "outputs": [],
   "source": []
  },
  {
   "cell_type": "code",
   "execution_count": 1,
   "metadata": {},
   "outputs": [
    {
     "name": "stderr",
     "output_type": "stream",
     "text": [
      "<frozen importlib._bootstrap>:219: RuntimeWarning: to-Python converter for boost::shared_ptr<hpp::fcl::CollisionGeometry> already registered; second conversion method ignored.\n"
     ]
    },
    {
     "ename": "ModuleNotFoundError",
     "evalue": "No module named 'rospy'",
     "output_type": "error",
     "traceback": [
      "\u001b[0;31m---------------------------------------------------------------------------\u001b[0m",
      "\u001b[0;31mModuleNotFoundError\u001b[0m                       Traceback (most recent call last)",
      "Input \u001b[0;32mIn [1]\u001b[0m, in \u001b[0;36m<cell line: 7>\u001b[0;34m()\u001b[0m\n\u001b[1;32m      4\u001b[0m \u001b[38;5;28;01mimport\u001b[39;00m \u001b[38;5;21;01mcasadi_kin_dyn\u001b[39;00m\n\u001b[1;32m      5\u001b[0m \u001b[38;5;66;03m#import roslib; roslib.load_manifest('urdfdom_py')\u001b[39;00m\n\u001b[1;32m      6\u001b[0m \u001b[38;5;66;03m#from urdf_parser_py.urdf import URDF\u001b[39;00m\n\u001b[0;32m----> 7\u001b[0m \u001b[38;5;28;01mimport\u001b[39;00m \u001b[38;5;21;01mrospy\u001b[39;00m\n\u001b[1;32m     10\u001b[0m \u001b[38;5;66;03m#robot = URDF.from_xml_file(\"urdf/src/ur_description/urdf/ur5_robot.urdf\")\u001b[39;00m\n\u001b[1;32m     11\u001b[0m \u001b[38;5;66;03m#print(type(robot))\u001b[39;00m\n\u001b[1;32m     12\u001b[0m \u001b[38;5;66;03m#root = \"urdf/src/ur_description/\"\u001b[39;00m\n\u001b[0;32m   (...)\u001b[0m\n\u001b[1;32m     16\u001b[0m \n\u001b[1;32m     17\u001b[0m \u001b[38;5;66;03m# worked: use roslaunch to load the UR5 URDF into robot_description\u001b[39;00m\n\u001b[1;32m     19\u001b[0m urdf \u001b[38;5;241m=\u001b[39m rospy\u001b[38;5;241m.\u001b[39mget_param(\u001b[38;5;124m'\u001b[39m\u001b[38;5;124mrobot_description\u001b[39m\u001b[38;5;124m'\u001b[39m) \u001b[38;5;66;03m# get urdf as string\u001b[39;00m\n",
      "\u001b[0;31mModuleNotFoundError\u001b[0m: No module named 'rospy'"
     ]
    }
   ],
   "source": [
    "import pinocchio as pin\n",
    "import numpy as np\n",
    "import casadi as ca\n",
    "import casadi_kin_dyn\n",
    "#import roslib; roslib.load_manifest('urdfdom_py')\n",
    "#from urdf_parser_py.urdf import UR, DF\n",
    "import rospy\n",
    "\n",
    "\n",
    "#robot = URDF.from_xml_file(\"urdf/src/ur_description/urdf/ur5_robot.urdf\")\n",
    "#print(type(robot))\n",
    "#root = \"urdf/src/ur_description/\"\n",
    "#with open(root+\"urdf/ur5_robot.urdf\", \"r\") as f:\n",
    "#    data = f.readlines()\n",
    "#model = pin.buildModelFromUrdf(root+\"urdf/ur5_robot.urdf\")\n",
    "\n",
    "# worked: use roslaunch to load the UR5 URDF into robot_description\n",
    "\n",
    "urdf = rospy.get_param('robot_description') # get urdf as string\n",
    "#mod = pin.buildModelFromUrdf('urdf/src/ur_description/urdf/ur5_robot.urdf')\n",
    "kindyn = casadi_kin_dyn.pycasadi_kin_dyn.CasadiKinDyn(urdf) # construct main class\n",
    "\n",
    "# Forward kinematics\n",
    "fk_str = kindyn.fk('base_link')\n",
    "fk = ca.Function.deserialize(fk_str)\n",
    "\n",
    "# Inverse dynamics\n",
    "id_str = kindyn.rnea()\n",
    "id = ca.Function.deserialize(id_str)\n",
    "\n",
    "q = np.ones(kindyn.nq())\n",
    "qd = 0.1*np.ones(kindyn.nq())\n",
    "print(id(q, qd, q))\n",
    "\n",
    "# Mass matrix\n",
    "massmat_str = kindyn.ccrba()\n",
    "massmat = ca.Function.deserialize(massmat_str)\n",
    "print(massmat(q))\n"
   ]
  },
  {
   "cell_type": "code",
   "execution_count": 3,
   "metadata": {},
   "outputs": [
    {
     "name": "stdout",
     "output_type": "stream",
     "text": [
      "91.5 µs ± 2.84 µs per loop (mean ± std. dev. of 7 runs, 10,000 loops each)\n",
      "\n",
      "[[0.01, 0.01, 0.01, 0.01, 0.01, 0.01, 1, 1, 1, 1, 1, 1], \n",
      " [0.01, 0.01, 0.01, 0.01, 0.01, 0.01, 1, 1, 1, 1, 1, 1], \n",
      " [0.01, 0.01, 0.01, 0.01, 0.01, 0.01, 1, 1, 1, 1, 1, 1], \n",
      " [0.01, 0.01, 0.01, 0.01, 0.01, 0.01, 1, 1, 1, 1, 1, 1], \n",
      " [0.01, 0.01, 0.01, 0.01, 0.01, 0.01, 1, 1, 1, 1, 1, 1], \n",
      " [0.01, 0.01, 0.01, 0.01, 0.01, 0.01, 1, 1, 1, 1, 1, 1], \n",
      " [0.01, 0.01, 0.01, 0.01, 0.01, 0.01, -5.19687e-05, -2.80115e-07, -2.19548e-06, 1.28511e-06, -0.000165049, 2.51433e-23], \n",
      " [0.01, 0.01, 0.01, 0.01, 0.01, 0.01, -0.00387265, 0.0039318, 0.00358412, 0.0028771, -0.0421759, -3.44884e-18], \n",
      " [0.01, 0.01, 0.01, 0.01, 0.01, 0.01, 0.0154962, -0.0159842, -0.0148035, -0.0118764, 0.168908, 1.3804e-17], \n",
      " [0.01, 0.01, 0.01, 0.01, 0.01, 0.01, -0.0174776, 0.0068734, -0.123792, 0.0107506, -0.132081, -1.13921e-17], \n",
      " [0.01, 0.01, 0.01, 0.01, 0.01, 0.01, -0.0317132, -0.0958758, -0.170769, 0.00912312, 0.0738528, 1.21466e-18], \n",
      " [0.01, 0.01, 0.01, 0.01, 0.01, 0.01, -32.7317, 32.4844, 44.8035, 25.419, -336.166, -2.7434e-14]]\n"
     ]
    }
   ],
   "source": [
    "import rospy\n",
    "import numpy as np\n",
    "from robot import robot\n",
    "\n",
    "urdf = rospy.get_param('robot_description')\n",
    "rob = robot(urdf)\n",
    "q = np.ones(6)\n",
    "%timeit f(0.01*q, 0.02*q, 0.03*q)\n",
    "print(f(0.01*q, 0.02*q, 0.03*q))"
   ]
  },
  {
   "cell_type": "code",
   "execution_count": null,
   "metadata": {},
   "outputs": [],
   "source": []
  }
 ],
 "metadata": {
  "kernelspec": {
   "display_name": "Python 3 (ipykernel)",
   "language": "python",
   "name": "python3"
  },
  "language_info": {
   "codemirror_mode": {
    "name": "ipython",
    "version": 3
   },
   "file_extension": ".py",
   "mimetype": "text/x-python",
   "name": "python",
   "nbconvert_exporter": "python",
   "pygments_lexer": "ipython3",
   "version": "3.8.10"
  }
 },
 "nbformat": 4,
 "nbformat_minor": 4
}
