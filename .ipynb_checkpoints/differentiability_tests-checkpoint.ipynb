{
 "cells": [
  {
   "cell_type": "code",
   "execution_count": 1,
   "id": "2acd6ec7",
   "metadata": {},
   "outputs": [],
   "source": [
    "%load_ext autoreload\n",
    "%autoreload 2"
   ]
  },
  {
   "cell_type": "markdown",
   "id": "f6367e5a",
   "metadata": {},
   "source": [
    "This notebook tries to identify if there are issues when differentiating dynamic systems with respect to dynamic parameters.  It tries to find if there are ways to characterize when this identification is difficult, not unique, etc."
   ]
  },
  {
   "cell_type": "code",
   "execution_count": 89,
   "id": "4e8a0fd3",
   "metadata": {},
   "outputs": [],
   "source": [
    "# Make some integrators\n",
    "import casadi as ca\n",
    "from copy import deepcopy\n",
    "\n",
    "def explicit_euler(xi_d, xi, params, h):\n",
    "    return xi + h*xi_d(xi, *params)\n",
    "\n",
    "def symplectic_euler(xi_d, xi, h):\n",
    "    xi_plus = deepcopy(xi)\n",
    "    xd_plus = xi[1]+h*xi_d[1]\n",
    "    x_plus = xi[0]+h*xd_plus[1]\n",
    "    return ca.vertstack(x_plus, xd_plus)"
   ]
  },
  {
   "cell_type": "code",
   "execution_count": 96,
   "id": "e90c31b7",
   "metadata": {},
   "outputs": [
    {
     "name": "stdout",
     "output_type": "stream",
     "text": [
      "@1=-0.103, @2=0.01, @3=-0.3, @4=1, @5=-0.1, @6=(@3+(@2*((@4-((@3*B)+((x_c<@5)?(-(K*(@5-x_c))):0)))/M))), @7=(@1+(@2*@6)), @8=(@6+(@2*((@4-((B*@6)+((x_c<@1)?(-(K*(@1-x_c))):0)))/M))), @9=(@7+(@2*@8)), @10=(@8+(@2*((@4-((B*@8)+((x_c<@7)?(-(K*(@7-x_c))):0)))/M))), @11=(@9+(@2*@10)), @12=(@10+(@2*((@4-((B*@10)+((x_c<@9)?(-(K*(@9-x_c))):0)))/M))), [[(@11+(@2*@12)), (@12+(@2*((@4-((B*@12)+((x_c<@11)?(-(K*(@11-x_c))):0)))/M)))]]\n"
     ]
    }
   ],
   "source": [
    "# Have some dynamics, generate some data.\n",
    "M = ca.SX.sym('M')\n",
    "B = ca.SX.sym('B')\n",
    "K = ca.SX.sym('K')\n",
    "xi = ca.SX.sym('xi',2)\n",
    "x_c = ca.SX.sym('x_c')\n",
    "\n",
    "bias = 1\n",
    "\n",
    "params = [M, B, K, x_c]\n",
    "\n",
    "contact_force = ca.if_else(xi[0]>x_c, -K*(xi[0]-x_c), 0)\n",
    "x_dd = 1/M*(-B*xi[1] - contact_force + bias)\n",
    "xi_d = ca.Function('xdot', [xi, *params], [ca.vertcat(xi[1], x_dd)])\n",
    "\n",
    "integrator = explicit_euler\n",
    "h = 0.01\n",
    "traj = [[-0.1, -0.3]]\n",
    "\n",
    "#print(xi_d(traj[-1], *paramsp))\n",
    "#print(integrator(xi_d, traj[-1], paramsp, h))\n",
    "\n",
    "for _ in range(30):\n",
    "    traj.append(integrator(xi_d, traj[-1], params, h))\n",
    "\n",
    "\n",
    "traj_fn = ca.Function('traj', [*params], [*traj])\n",
    "traj = ca.horzcat(*traj).T\n",
    "print(traj[5,:])"
   ]
  },
  {
   "cell_type": "code",
   "execution_count": 97,
   "id": "d5e3428a",
   "metadata": {},
   "outputs": [
    {
     "data": {
      "image/png": "[encoded data removed]",
      "text/plain": [
       "<Figure size 432x288 with 1 Axes>"
      ]
     },
     "metadata": {
      "needs_background": "light"
     },
     "output_type": "display_data"
    }
   ],
   "source": [
    "# Eval and plot\n",
    "import matplotlib.pyplot as plt\n",
    "Mp = 1; Bp = 30; Kp = 100\n",
    "x_cp = 0.1\n",
    "paramsp = [Mp, Bp, Kp, x_cp]\n",
    "\n",
    "trajp = traj_fn(*paramsp)\n",
    "traj_pts = ca.horzcat(*trajp).T.full()\n",
    "plt.plot(traj_pts, label=\"traj\")\n",
    "\n",
    "p = B\n",
    "dx_c_fn = ca.Function('dx', [*params], [ca.jacobian(traj[:,0], p)])\n",
    "dx_c = dx_c_fn(*paramsp)\n",
    "plt.plot(dx_c, label='grad_pos')\n",
    "plt.legend()\n",
    "plt.grid(True)\n"
   ]
  },
  {
   "cell_type": "code",
   "execution_count": 39,
   "id": "4d8889ec",
   "metadata": {},
   "outputs": [
    {
     "name": "stdout",
     "output_type": "stream",
     "text": [
      "Building robot with contact pars: {'pos': DM([0, 0, 0]), 'stiff': DM([100, 100, 100]), 'rest': DM([-0.4, 0.3, 0.12])}\n",
      "optimization pars: {}\n",
      "estimation pars:   {}\n",
      "Building robot with contact pars: {'pos': DM([0, 0, 0]), 'stiff': DM([100, 100, 100]), 'rest': DM([-0.4, 0.3, 0.12])}\n",
      "optimization pars: {}\n",
      "estimation pars:   {}\n",
      "Building robot with contact pars: {'pos': DM([0, 0, 0]), 'stiff': DM([100, 100, 100]), 'rest': DM([-0.4, 0.3, 0.12])}\n",
      "optimization pars: {}\n",
      "estimation pars:   {}\n",
      "86.3 µs ± 7.88 µs per loop (mean ± std. dev. of 7 runs, 10,000 loops each)\n"
     ]
    }
   ],
   "source": [
    "# Checking the impact of JIT on the performance \n",
    "from main import init_rosparams\n",
    "from robot import Robot\n",
    "from observer import ekf\n",
    "import numpy as np\n",
    "par = init_rosparams()\n",
    "dyn_sys = Robot(par)\n",
    "\n",
    "#obs = ekf(par, np.ones(6), est_geom = False)\n",
    "#obs2 = ekf(par, np.ones(6), est_geom = False)\n",
    "#step_args = {'tau': np.zeros(6), 'xi': np.ones(12)}\n",
    "\n",
    "# Checking cleaned-up dynamics, speed up ~30 micsec to ~20\n",
    "#%timeit dyn_sys.disc_dyn.call(step_arg\n",
    "#%timeit dyn_sys.disc_dyn2.call(step_args)\n",
    "#res1 = dyn_sys.disc_dyn.call(step_args)\n",
    "#res2 = dyn_sys.disc_dyn_opt.call(step_args)\n",
    "#print(res1['xi_next']-res2['xi_next'])\n",
    "\n",
    "# Checking approximation to A, speedup ~120 micsec to ~30\n",
    "#%timeit dyn_sys.A_fn.call(step_args)['A']\n",
    "#%timeit dyn_sys.A_fn2.call(step_args)['A']\n",
    "#%timeit dyn_sys.A_fn3.call(step_args)['A']\n",
    "#res1 = dyn_sys.A.call(step_args)['A']\n",
    "#res3 = dyn_sys.A_opt.call(step_args)['A']\n",
    "#print(res1-res3)\n",
    "\n",
    "# Checking the optimized EKF step fn, speedup ~600 micsec to 75\n",
    "#%timeit obs.step(np.ones(6), np.ones(6))\n",
    "#%timeit obs2.step_fast(np.ones(6), np.ones(6))\n",
    "%timeit obs2.step_fast(np.ones(6), np.ones(6))"
   ]
  },
  {
   "cell_type": "code",
   "execution_count": 45,
   "id": "a380119c",
   "metadata": {},
   "outputs": [
    {
     "name": "stdout",
     "output_type": "stream",
     "text": [
      "Building robot model with\n",
      "  optimization pars: {}\n",
      "  estimation pars:   {}\n"
     ]
    },
    {
     "ename": "AttributeError",
     "evalue": "module 'casadi' has no attribute 'deserialize'",
     "output_type": "error",
     "traceback": [
      "\u001b[0;31m---------------------------------------------------------------------------\u001b[0m",
      "\u001b[0;31mAttributeError\u001b[0m                            Traceback (most recent call last)",
      "Input \u001b[0;32mIn [45]\u001b[0m, in \u001b[0;36m<cell line: 14>\u001b[0;34m()\u001b[0m\n\u001b[1;32m     12\u001b[0m \u001b[38;5;28;01mwith\u001b[39;00m \u001b[38;5;28mopen\u001b[39m(\u001b[38;5;124m\"\u001b[39m\u001b[38;5;124mdisc_dyn.ca\u001b[39m\u001b[38;5;124m\"\u001b[39m, \u001b[38;5;124m\"\u001b[39m\u001b[38;5;124mr\u001b[39m\u001b[38;5;124m\"\u001b[39m) \u001b[38;5;28;01mas\u001b[39;00m text_file:\n\u001b[1;32m     13\u001b[0m     st \u001b[38;5;241m=\u001b[39m text_file\u001b[38;5;241m.\u001b[39mread()\n\u001b[0;32m---> 14\u001b[0m \u001b[43mca\u001b[49m\u001b[38;5;241;43m.\u001b[39;49m\u001b[43mdeserialize\u001b[49m(st)\n",
      "\u001b[0;31mAttributeError\u001b[0m: module 'casadi' has no attribute 'deserialize'"
     ]
    }
   ],
   "source": [
    "# Testing exporting a casadi fn\n",
    "import casadi as ca\n",
    "from main import init_rosparams\n",
    "from robot import Robot\n",
    "from observer import ekf\n",
    "import numpy as np\n",
    "par = init_rosparams()\n",
    "dyn_sys = Robot(par)\n",
    "with open(\"disc_dyn.ca\", \"w\") as text_file:\n",
    "    text_file.write(dyn_sys.disc_dyn.serialize())\n",
    "    \n",
    "with open(\"disc_dyn.ca\", \"r\") as text_file:\n",
    "    st = text_file.read()\n",
    "ca.deserialize(st)    \n",
    "\n",
    "#q2.symvar(q)"
   ]
  },
  {
   "cell_type": "markdown",
   "id": "f1ea1c6f",
   "metadata": {},
   "source": [
    "It seems like *one* way this is unrealistic is that the trajectory is fully rolled out. If we're doing something like an EM approach (estimate state, fit dyn over the (state, state+) pairs) then some of this recursive aspects should drop out. "
   ]
  }
 ],
 "metadata": {
  "kernelspec": {
   "display_name": "Python 3 (ipykernel)",
   "language": "python",
   "name": "python3"
  },
  "language_info": {
   "codemirror_mode": {
    "name": "ipython",
    "version": 3
   },
   "file_extension": ".py",
   "mimetype": "text/x-python",
   "name": "python",
   "nbconvert_exporter": "python",
   "pygments_lexer": "ipython3",
   "version": "3.8.10"
  }
 },
 "nbformat": 4,
 "nbformat_minor": 5
}
