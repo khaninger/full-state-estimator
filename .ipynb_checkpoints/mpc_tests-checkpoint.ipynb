{
 "cells": [
  {
   "cell_type": "code",
   "execution_count": 6,
   "metadata": {},
   "outputs": [
    {
     "name": "stdout",
     "output_type": "stream",
     "text": [
      "loading model: contact\n",
      "Building robot model with:\n",
      "  contact model(s):  ['contact_1']\n",
      "  optimization pars: {}\n",
      "  estimation pars:   {}\n",
      "<class 'pinocchio.pinocchio_pywrap_casadi.SE3'>\n",
      "(DM([0, 0, 0]), DM(\n",
      "[[1, 0, 0], \n",
      " [0, 1, 0], \n",
      " [0, 0, 1]]))\n",
      "loading model: free-space\n",
      "Building robot model with:\n",
      "  contact model(s):  ['contact_1']\n",
      "  optimization pars: {}\n",
      "  estimation pars:   {}\n",
      "<class 'pinocchio.pinocchio_pywrap_casadi.SE3'>\n",
      "(DM([0, 0, 0]), DM(\n",
      "[[1, 0, 0], \n",
      " [0, 1, 0], \n",
      " [0, 0, 1]]))\n",
      "** Parameter **\n",
      "xi_t:\n",
      ": [xi_t_0, xi_t_1, xi_t_2, xi_t_3, xi_t_4, xi_t_5, xi_t_6, xi_t_7, xi_t_8, xi_t_9, xi_t_10, xi_t_11, xi_t_12, xi_t_13]\n",
      "\n",
      "(14, 5)\n"
     ]
    }
   ],
   "source": [
    "from robot import RobotDict\n",
    "from decision_vars import *\n",
    "import casadi as ca\n",
    "\n",
    "H = 5     # num MPC steps\n",
    "R = 0.1   # control weight in cost function\n",
    "dt = 0.01 # time step in sec for discretized dynamics\n",
    "\n",
    "solver_opts = {\"print_time\":False,\n",
    "               \"ipopt.print_level\":0,\n",
    "               \"ipopt.tol\":1.0e-5,\n",
    "               \"ipopt.acceptable_constr_viol_tol\":2.0e-04,\n",
    "               \"ipopt.linear_solver\":'MUMPS',\n",
    "               \"ipopt.warm_start_init_point\":\"yes\",\n",
    "               \"ipopt.warm_start_bound_frac\":1.0e-09,\n",
    "               \"ipopt.warm_start_bound_push\":1.0e-09,\n",
    "              }\n",
    "\n",
    "robots = RobotDict(\"config_files/franka.yaml\", [\"config_files/contact.yaml\", \"config_files/free_space.yaml\"], {})\n",
    "robot = robots.param_dict['contact']\n",
    "\n",
    "robot.build_disc_dyn(dt, {}) # Rebuild dyn with larger step size\n",
    "\n",
    "nq = robot.nq\n",
    "nx = 2*robot.nq\n",
    "qd = np.ones((nq,1))\n",
    "\n",
    "# Make the parameters, which are fixed numerical values which can be updated in each solve\n",
    "params_init = dict(xi_t = np.zeros((2*robot.nq, 1)))\n",
    "params = param_set(params_init, symb_type = ca.SX.sym)\n",
    "\n",
    "# Make the decision variables, which are optimized\n",
    "vars_init =  dict(tau = np.zeros((nq, H)),\n",
    "                  xi = np.zeros((nx, H-1)))\n",
    "vars_lb = dict(tau = -np.ones((nq, H)))\n",
    "vars_ub = {k:-v for k,v in vars_lb.items()}\n",
    "vars = decision_var_set(x0 = vars_init, lb = vars_lb, ub = vars_ub)\n",
    "\n",
    "g = [] # lists for the constraints and it's bounds\n",
    "J = 0  # objective function\n",
    "\n",
    "dyn = robot.disc_dyn\n",
    "\n",
    "xi = ca.horzcat(params_init['xi_t'], vars['xi']) # using parameter for initial state\n",
    "#xi = ca.horzcat(np.zeros((nx,1)), vars['xi']) # some issue with parameters, just setting initial state to zero\n",
    "xi_next = dyn(xi, vars['tau'])\n",
    "print(xi_next.shape)\n",
    "g += [ca.reshape(xi_next[:,:-1]-vars['xi'][:,:], nx*(H-1), 1)]\n",
    "J += ca.sumsqr(qd-xi_next[:nq,:])\n",
    "J += ca.sumsqr(xi_next[nq:,:])\n",
    "J += ca.sumsqr(R*vars['tau'])\n",
    "\n",
    "x, x_lb, x_ub = vars.get_dec_vectors()\n",
    "x0 = vars.get_x0()\n",
    "#print(args[\"x0\"].shape)\n",
    "args = dict(x0=x0, lbx=x_lb, ubx=x_ub)\n",
    "#print(args)\n",
    "prob = dict(f=J, x=x, g=ca.vertcat(*g))#, p=params.get_vector())\n",
    "solver = ca.nlpsol('solver', 'ipopt', prob, solver_opts)"
   ]
  },
  {
   "cell_type": "code",
   "execution_count": 16,
   "metadata": {},
   "outputs": [
    {
     "name": "stdout",
     "output_type": "stream",
     "text": [
      "Cold start time:  0.006217746005859226 sec\n",
      "Cold start rate:  160.82998550562547 Hz\n",
      "Warm start rate: 303.9384679279226 Hz\n"
     ]
    }
   ],
   "source": [
    "import time\n",
    "import numpy as np\n",
    "\n",
    "N = 100\n",
    "times = []\n",
    "\n",
    "xi_init = 0.01*ca.DM.ones((nx,1))\n",
    "\n",
    "for i in range(N):\n",
    "    #args['p'] = xi_init #+ 0.01*np.random.randn(nx)\n",
    "    tic = time.perf_counter()\n",
    "    sol = solver(**args)\n",
    "    times.append(time.perf_counter()-tic)\n",
    "    #print(args[\"x0\"].shape)\n",
    "    # Save solution + lagrangian for warm start\n",
    "    args['x0'] = sol['x']\n",
    "    #print(sol[\"x\"])\n",
    "    args['lam_x0'] = sol['lam_x']\n",
    "    args['lam_g0'] = sol['lam_g']\n",
    "    #print(sol)\n",
    "    vars.set_results(sol['x'])\n",
    "    #print(vars['tau'])\n",
    "print(f'Cold start time:  {times[0]} sec')\n",
    "print(f'Cold start rate:  {1/times[0]} Hz')\n",
    "print(f'Warm start rate: {1/np.mean(times[1:])} Hz')"
   ]
  },
  {
   "cell_type": "code",
   "execution_count": null,
   "metadata": {},
   "outputs": [],
   "source": []
  }
 ],
 "metadata": {
  "kernelspec": {
   "display_name": "Python 3",
   "language": "python",
   "name": "python3"
  },
  "language_info": {
   "codemirror_mode": {
    "name": "ipython",
    "version": 3
   },
   "file_extension": ".py",
   "mimetype": "text/x-python",
   "name": "python",
   "nbconvert_exporter": "python",
   "pygments_lexer": "ipython3",
   "version": "3.8.10"
  }
 },
 "nbformat": 4,
 "nbformat_minor": 5
}
