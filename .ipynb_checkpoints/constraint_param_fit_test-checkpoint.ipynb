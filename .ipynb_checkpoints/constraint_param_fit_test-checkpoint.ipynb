{
 "cells": [
  {
   "cell_type": "code",
   "execution_count": null,
   "id": "3a0c3cec",
   "metadata": {},
   "outputs": [],
   "source": [
    "%load_ext autoreload\n",
    "%autoreload 2"
   ]
  },
  {
   "cell_type": "code",
   "execution_count": 27,
   "id": "2d57b4ac",
   "metadata": {},
   "outputs": [
    {
     "name": "stdout",
     "output_type": "stream",
     "text": [
      "[[ 9.88771078e-01 -4.41619878e-02  1.42763701e-01  1.71381850e-01]\n",
      " [-3.46944695e-18  9.55336489e-01  2.95520207e-01  3.47760103e-01]\n",
      " [-1.49438132e-01 -2.92201833e-01  9.44609090e-01  7.72304545e-01]\n",
      " [ 0.00000000e+00  0.00000000e+00  0.00000000e+00  1.00000000e+00]]\n",
      "[[ 9.55336489e-01 -4.41619878e-02 -2.92201833e-01 -4.61009166e-02]\n",
      " [-3.46944695e-18  9.88771078e-01 -1.49438132e-01  1.25280934e-01]\n",
      " [ 2.95520207e-01  1.42763701e-01  9.44609090e-01  7.72304545e-01]\n",
      " [ 0.00000000e+00  0.00000000e+00  0.00000000e+00  1.00000000e+00]]\n"
     ]
    }
   ],
   "source": [
    "### Generate some nice data\n",
    "### rotating about x and y axis\n",
    "\n",
    "import numpy as np\n",
    "from rotation_helpers import xyz_to_rotation\n",
    "\n",
    "rest_pt = np.array([0.1, 0.2, 0.3])\n",
    "pt = np.array([0., 0., 0.5])\n",
    "\n",
    "Tmats = []\n",
    "\n",
    "for x_rot in np.linspace(-0.3,0.3,5):\n",
    "    for y_rot in np.linspace(-0.3,0.3,5):\n",
    "        rotation = np.array([x_rot, y_rot, 0])\n",
    "        new_rotmat = xyz_to_rotation(rotation)\n",
    "        new_pt = new_rotmat@pt+rest_pt\n",
    "        Tmat = np.eye(4)\n",
    "        Tmat[:3,3] = np.squeeze(new_pt)\n",
    "        Tmat[:3,:3] = new_rotmat\n",
    "        Tmats.append(Tmat)\n",
    "        \n",
    "#print(Tmats[3])\n",
    "#print(Tmats[15])"
   ]
  },
  {
   "cell_type": "code",
   "execution_count": 34,
   "id": "7197dc7a",
   "metadata": {},
   "outputs": [
    {
     "name": "stdout",
     "output_type": "stream",
     "text": [
      "The autoreload extension is already loaded. To reload it, use:\n",
      "  %reload_ext autoreload\n",
      "boo!\n"
     ]
    },
    {
     "name": "stderr",
     "output_type": "stream",
     "text": [
      "[autoreload of constraint failed: Traceback (most recent call last):\n",
      "  File \"/home/hanikevi/.local/lib/python3.8/site-packages/IPython/extensions/autoreload.py\", line 257, in check\n",
      "    superreload(m, reload, self.old_objects)\n",
      "  File \"/home/hanikevi/.local/lib/python3.8/site-packages/IPython/extensions/autoreload.py\", line 480, in superreload\n",
      "    update_generic(old_obj, new_obj)\n",
      "  File \"/home/hanikevi/.local/lib/python3.8/site-packages/IPython/extensions/autoreload.py\", line 377, in update_generic\n",
      "    update(a, b)\n",
      "  File \"/home/hanikevi/.local/lib/python3.8/site-packages/IPython/extensions/autoreload.py\", line 329, in update_class\n",
      "    if update_generic(old_obj, new_obj):\n",
      "  File \"/home/hanikevi/.local/lib/python3.8/site-packages/IPython/extensions/autoreload.py\", line 377, in update_generic\n",
      "    update(a, b)\n",
      "  File \"/home/hanikevi/.local/lib/python3.8/site-packages/IPython/extensions/autoreload.py\", line 289, in update_function\n",
      "    setattr(old, name, getattr(new, name))\n",
      "ValueError: __init__() requires a code object with 0 free vars, not 1\n",
      "]\n"
     ]
    },
    {
     "ename": "TypeError",
     "evalue": "descriptor '__init__' requires a 'super' object but received a 'PointConstraint'",
     "output_type": "error",
     "traceback": [
      "\u001b[0;31m---------------------------------------------------------------------------\u001b[0m",
      "\u001b[0;31mTypeError\u001b[0m                                 Traceback (most recent call last)",
      "Input \u001b[0;32mIn [34]\u001b[0m, in \u001b[0;36m<cell line: 5>\u001b[0;34m()\u001b[0m\n\u001b[1;32m      2\u001b[0m get_ipython()\u001b[38;5;241m.\u001b[39mrun_line_magic(\u001b[38;5;124m'\u001b[39m\u001b[38;5;124mautoreload\u001b[39m\u001b[38;5;124m'\u001b[39m, \u001b[38;5;124m'\u001b[39m\u001b[38;5;124m2\u001b[39m\u001b[38;5;124m'\u001b[39m)\n\u001b[1;32m      4\u001b[0m \u001b[38;5;28;01mfrom\u001b[39;00m \u001b[38;5;21;01mconstraint\u001b[39;00m \u001b[38;5;28;01mimport\u001b[39;00m PointConstraint\n\u001b[0;32m----> 5\u001b[0m constraint \u001b[38;5;241m=\u001b[39m \u001b[43mPointConstraint\u001b[49m\u001b[43m(\u001b[49m\u001b[43m)\u001b[49m\n\u001b[1;32m      6\u001b[0m constraint\u001b[38;5;241m.\u001b[39mfit(Tmats)\n",
      "File \u001b[0;32m~/full-state-estimator/constraint.py:37\u001b[0m, in \u001b[0;36m__init__\u001b[0;34m(self)\u001b[0m\n\u001b[1;32m     35\u001b[0m def __init__(self):\n\u001b[1;32m     36\u001b[0m     self.pt = ca.SX.sym('pt', 3)           # contact point, in the coordinate sys of x\n\u001b[0;32m---> 37\u001b[0m     self.rest_pt = ca.SX.sym('rest_pt', 3) # rest point, where contact point should stay\n\u001b[1;32m     38\u001b[0m     params_init = {'pt': np.zeros(3),\n\u001b[1;32m     39\u001b[0m                  'rest_pt': np.zeros(3),}\n",
      "\u001b[0;31mTypeError\u001b[0m: descriptor '__init__' requires a 'super' object but received a 'PointConstraint'"
     ]
    }
   ],
   "source": [
    "from constraint import PointConstraint\n",
    "constraint = PointConstraint()\n",
    "constraint.fit(Tmats)"
   ]
  }
 ],
 "metadata": {
  "kernelspec": {
   "display_name": "Python 3 (ipykernel)",
   "language": "python",
   "name": "python3"
  },
  "language_info": {
   "codemirror_mode": {
    "name": "ipython",
    "version": 3
   },
   "file_extension": ".py",
   "mimetype": "text/x-python",
   "name": "python",
   "nbconvert_exporter": "python",
   "pygments_lexer": "ipython3",
   "version": "3.8.10"
  }
 },
 "nbformat": 4,
 "nbformat_minor": 5
}
