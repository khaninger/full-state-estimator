{
 "cells": [
  {
   "cell_type": "code",
   "execution_count": 19,
   "metadata": {},
   "outputs": [
    {
     "name": "stdout",
     "output_type": "stream",
     "text": [
      "loading model: contact\n",
      "Building robot model with:\n",
      "  contact model(s):  ['contact_1']\n",
      "  optimization pars: {}\n",
      "  estimation pars:   {}\n",
      "<class 'pinocchio.pinocchio_pywrap_casadi.SE3'>\n",
      "(DM([0, 0, 0]), DM(\n",
      "[[1, 0, 0], \n",
      " [0, 1, 0], \n",
      " [0, 0, 1]]))\n",
      "loading model: free-space\n",
      "Building robot model with:\n",
      "  contact model(s):  ['contact_1']\n",
      "  optimization pars: {}\n",
      "  estimation pars:   {}\n",
      "<class 'pinocchio.pinocchio_pywrap_casadi.SE3'>\n",
      "(DM([0, 0, 0]), DM(\n",
      "[[1, 0, 0], \n",
      " [0, 1, 0], \n",
      " [0, 0, 1]]))\n",
      "(30, 14, 5)\n"
     ]
    }
   ],
   "source": [
    "from robot import RobotDict\n",
    "from decision_vars import *\n",
    "import casadi as ca\n",
    "import numpy as np\n",
    "import colorednoise\n",
    "H = 5   # number of mpc-steps\n",
    "R = 0.1\n",
    "dt = 0.01\n",
    "\n",
    "\n",
    "robots = RobotDict(\"config_files/franka.yaml\", [\"config_files/contact.yaml\", \"config_files/free_space.yaml\"], {})\n",
    "robot = robots.param_dict['contact']\n",
    "robot.build_disc_dyn(dt, {}) # Rebuild dyn with larger step size\n",
    "nq = robot.nq\n",
    "nx = 2*robot.nq\n",
    "qd = np.ones((nq,1))\n",
    "\n",
    "# Make the parameters, which are fixed numerical values which can be updated in each solve\n",
    "params_init = dict(xi_t = np.zeros((2*robot.nq, 1)))\n",
    "#print(params_init[\"xi_t\"].shape)\n",
    "params = param_set(params_init, symb_type = ca.SX.sym)\n",
    "\n",
    "# Make the decision variables, which are optimized\n",
    "vars_init =  dict(tau = np.zeros((nq, H)),\n",
    "                  xi = np.zeros((nx, H)))\n",
    "vars_lb = dict(tau = -np.ones((nq, H)))\n",
    "vars_ub = {k:-v for k,v in vars_lb.items()}\n",
    "vars = decision_var_set(x0 = vars_init, lb = vars_lb, ub = vars_ub)\n",
    "\n",
    "g = [] # lists for the constraints and it's bounds\n",
    "J = 0  # objective function\n",
    "\n",
    "dyn = robot.disc_dyn  # casadi function for calculating the 1-step dynamics\n",
    "\n",
    "#xi = ca.horzcat(np.zeros((nx,1)), vars['xi']) # some issue with parameters, just setting initial state to zero\n",
    "#print(vars[\"xi\"].shape)\n",
    "#print(vars[\"tau\"].shape)\n",
    "\n",
    "#print(xi_next.shape)\n",
    "robot_dict = robots.param_dict  # dictionary of robot models for different modes\n",
    "modes = robot_dict.keys()\n",
    "disc_dyn = {mode:robot_dict[mode].disc_dyn.map(H, 'serial') for mode in modes}\n",
    "\n",
    "num_particles = 30\n",
    "x = np.zeros((nx, ))\n",
    "tau = np.zeros((nq, ))\n",
    "#x_next = dyn(x, tau)\n",
    "new_f = dyn.mapaccum(H)\n",
    "#print(new_f)\n",
    "map_f = new_f.map(num_particles)\n",
    "#print(map_f)\n",
    "x_next = new_f(x, tau)\n",
    "#print(x_next.shape)\n",
    "rollout = np.zeros((num_particles, nx, H))\n",
    "for i in range(num_particles):\n",
    "    rollout[i][:,:] = new_f(x, tau)\n",
    "print(rollout.shape)"
   ]
  },
  {
   "cell_type": "code",
   "execution_count": null,
   "metadata": {},
   "outputs": [],
   "source": []
  }
 ],
 "metadata": {
  "kernelspec": {
   "display_name": "Python 3",
   "language": "python",
   "name": "python3"
  },
  "language_info": {
   "codemirror_mode": {
    "name": "ipython",
    "version": 3
   },
   "file_extension": ".py",
   "mimetype": "text/x-python",
   "name": "python",
   "nbconvert_exporter": "python",
   "pygments_lexer": "ipython3",
   "version": "3.8.10"
  }
 },
 "nbformat": 4,
 "nbformat_minor": 4
}
