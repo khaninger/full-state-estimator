{
 "cells": [
  {
   "cell_type": "code",
   "execution_count": 9,
   "id": "9f3c77c4",
   "metadata": {},
   "outputs": [
    {
     "name": "stdout",
     "output_type": "stream",
     "text": [
      "loading model: contact\n",
      "Building robot model with:\n",
      "  contact model(s):  ['contact_1']\n",
      "  optimization pars: {}\n",
      "  estimation pars:   {}\n",
      "loading model: free-space\n",
      "Building robot model with:\n",
      "  contact model(s):  ['contact_1']\n",
      "  optimization pars: {}\n",
      "  estimation pars:   {}\n",
      "(14, 10)\n"
     ]
    }
   ],
   "source": [
    "from robot import RobotDict\n",
    "from decision_vars import *\n",
    "import casadi as ca\n",
    "\n",
    "H = 10     # num MPC steps\n",
    "R = 0.1   # control weight in cost function\n",
    "dt = 0.01 # time step in sec for discretized dynamics\n",
    "\n",
    "solver_opts = {\"print_time\":False,\n",
    "               \"ipopt.print_level\":0,\n",
    "               \"ipopt.tol\":1.0e-5,\n",
    "               \"ipopt.acceptable_constr_viol_tol\":2.0e-04,\n",
    "               \"ipopt.linear_solver\":'MA27',\n",
    "               \"ipopt.warm_start_init_point\":\"yes\",\n",
    "               \"ipopt.warm_start_bound_frac\":1.0e-09,\n",
    "               \"ipopt.warm_start_bound_push\":1.0e-09,\n",
    "              }\n",
    "\n",
    "robots = RobotDict(\"config_files/franka.yaml\", [\"config_files/contact.yaml\", \"config_files/free_space.yaml\"], {})\n",
    "robot = robots.param_dict['contact']\n",
    "\n",
    "robot.disc_dyn_mpc(dt, {}) # Rebuild dyn with larger step size\n",
    "\n",
    "nq = robot.nq\n",
    "nx = 2*robot.nq\n",
    "qd = np.ones((nq,1))\n",
    "\n",
    "# Make the parameters, which are fixed numerical values which can be updated in each solve\n",
    "params_init = dict(xi_t = np.zeros((2*robot.nq, 1)))\n",
    "params = param_set(params_init, symb_type = ca.SX.sym)\n",
    "\n",
    "# Make the decision variables, which are optimized\n",
    "vars_init =  dict(tau = np.zeros((nq, H)),\n",
    "                  xi = np.zeros((nx, H-1)))\n",
    "vars_lb = dict(tau = -np.ones((nq, H)))\n",
    "vars_ub = {k:-v for k,v in vars_lb.items()}\n",
    "vars = decision_var_set(x0 = vars_init, lb = vars_lb, ub = vars_ub)\n",
    "\n",
    "g = [] # lists for the constraints and it's bounds\n",
    "J = 0  # objective function\n",
    "\n",
    "dyn = robot.dyn_mpc\n",
    "\n",
    "xi = ca.horzcat(params_init['xi_t'], vars['xi']) # using parameter for initial state\n",
    "#xi = ca.horzcat(np.zeros((nx,1)), vars['xi']) # some issue with parameters, just setting initial state to zero\n",
    "xi_next = dyn(xi, vars['tau'])[0]\n",
    "print(xi_next.shape)\n",
    "g += [ca.reshape(xi_next[:,:-1]-vars['xi'][:,:], nx*(H-1), 1)]\n",
    "J += ca.sumsqr(qd-xi_next[:nq,:])\n",
    "J += ca.sumsqr(xi_next[nq:,:])\n",
    "J += ca.sumsqr(R*vars['tau'])\n",
    "\n",
    "x, x_lb, x_ub = vars.get_dec_vectors()\n",
    "x0 = vars.get_x0()\n",
    "#print(args[\"x0\"].shape)\n",
    "args = dict(x0=x0, lbx=x_lb, ubx=x_ub)\n",
    "#print(args)\n",
    "prob = dict(f=J, x=x, g=ca.vertcat(*g))#, p=params.get_vector())\n",
    "solver = ca.nlpsol('solver', 'ipopt', prob, solver_opts)"
   ]
  },
  {
   "cell_type": "code",
   "execution_count": 10,
   "id": "96fde6c2",
   "metadata": {},
   "outputs": [
    {
     "name": "stdout",
     "output_type": "stream",
     "text": [
      "Cold start time:  0.7178179216571152 sec\n",
      "Cold start rate:  1.3931109405731397 Hz\n",
      "Warm start rate: 82.51961306642386 Hz\n"
     ]
    }
   ],
   "source": [
    "import time\n",
    "import numpy as np\n",
    "\n",
    "N = 100\n",
    "times = []\n",
    "\n",
    "xi_init = 0.01*ca.DM.ones((nx,1))\n",
    "\n",
    "for i in range(N):\n",
    "    #args['p'] = xi_init #+ 0.01*np.random.randn(nx)\n",
    "    tic = time.perf_counter()\n",
    "    sol = solver(**args)\n",
    "    times.append(time.perf_counter()-tic)\n",
    "    #print(args[\"x0\"].shape)\n",
    "    # Save solution + lagrangian for warm start\n",
    "    args['x0'] = sol['x']\n",
    "    #print(sol[\"x\"])\n",
    "    args['lam_x0'] = sol['lam_x']\n",
    "    args['lam_g0'] = sol['lam_g']\n",
    "    #print(sol)\n",
    "    vars.set_results(sol['x'])\n",
    "    #print(vars['tau'])\n",
    "print(f'Cold start time:  {times[0]} sec')\n",
    "print(f'Cold start rate:  {1/times[0]} Hz')\n",
    "print(f'Warm start rate: {1/np.mean(times[1:])} Hz')"
   ]
  },
  {
   "cell_type": "code",
   "execution_count": null,
   "id": "f4a7b953",
   "metadata": {},
   "outputs": [],
   "source": [
    "# Checking an LCP-based solver, e.g. ADMM or some other modern approach\n",
    "\n",
    "# check here: https://github.com/DAIRLab/dairlib/blob/admm/solvers/c3.h\n",
    "\n"
   ]
  }
 ],
 "metadata": {
  "kernelspec": {
   "display_name": "Python 3 (ipykernel)",
   "language": "python",
   "name": "python3"
  },
  "language_info": {
   "codemirror_mode": {
    "name": "ipython",
    "version": 3
   },
   "file_extension": ".py",
   "mimetype": "text/x-python",
   "name": "python",
   "nbconvert_exporter": "python",
   "pygments_lexer": "ipython3",
   "version": "3.8.10"
  }
 },
 "nbformat": 4,
 "nbformat_minor": 5
}
