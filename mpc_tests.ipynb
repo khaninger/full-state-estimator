{
 "cells": [
  {
   "cell_type": "code",
   "execution_count": 1,
   "metadata": {},
   "outputs": [
    {
     "name": "stdout",
     "output_type": "stream",
     "text": [
      "loading model: contact\n",
      "Building robot model with:\n",
      "  contact model(s):  ['contact_1']\n",
      "  optimization pars: {}\n",
      "  estimation pars:   {}\n",
      "<class 'pinocchio.pinocchio_pywrap_casadi.SE3'>\n",
      "(DM([0, 0, 0]), DM(\n",
      "[[1, 0, 0], \n",
      " [0, 1, 0], \n",
      " [0, 0, 1]]))\n"
     ]
    },
    {
     "ename": "RuntimeError",
     "evalue": ".../casadi/core/function.cpp:207: Unknown dictionary entry: 'A'",
     "output_type": "error",
     "traceback": [
      "\u001b[0;31m---------------------------------------------------------------------------\u001b[0m",
      "\u001b[0;31mRuntimeError\u001b[0m                              Traceback (most recent call last)",
      "\u001b[0;32m<ipython-input-1-40293869d217>\u001b[0m in \u001b[0;36m<module>\u001b[0;34m\u001b[0m\n\u001b[1;32m     17\u001b[0m               }\n\u001b[1;32m     18\u001b[0m \u001b[0;34m\u001b[0m\u001b[0m\n\u001b[0;32m---> 19\u001b[0;31m \u001b[0mrobots\u001b[0m \u001b[0;34m=\u001b[0m \u001b[0mRobotDict\u001b[0m\u001b[0;34m(\u001b[0m\u001b[0;34m\"config_files/franka.yaml\"\u001b[0m\u001b[0;34m,\u001b[0m \u001b[0;34m[\u001b[0m\u001b[0;34m\"config_files/contact.yaml\"\u001b[0m\u001b[0;34m,\u001b[0m \u001b[0;34m\"config_files/free_space.yaml\"\u001b[0m\u001b[0;34m]\u001b[0m\u001b[0;34m,\u001b[0m \u001b[0;34m{\u001b[0m\u001b[0;34m}\u001b[0m\u001b[0;34m)\u001b[0m\u001b[0;34m\u001b[0m\u001b[0;34m\u001b[0m\u001b[0m\n\u001b[0m\u001b[1;32m     20\u001b[0m \u001b[0mrobot\u001b[0m \u001b[0;34m=\u001b[0m \u001b[0mrobots\u001b[0m\u001b[0;34m.\u001b[0m\u001b[0mparam_dict\u001b[0m\u001b[0;34m[\u001b[0m\u001b[0;34m'contact'\u001b[0m\u001b[0;34m]\u001b[0m\u001b[0;34m\u001b[0m\u001b[0;34m\u001b[0m\u001b[0m\n\u001b[1;32m     21\u001b[0m \u001b[0;34m\u001b[0m\u001b[0m\n",
      "\u001b[0;32m~/converging/full_state_estimator/robot.py\u001b[0m in \u001b[0;36m__init__\u001b[0;34m(self, robot_path, file_path, est_par)\u001b[0m\n\u001b[1;32m    194\u001b[0m         \u001b[0mself\u001b[0m\u001b[0;34m.\u001b[0m\u001b[0mparam_dict\u001b[0m \u001b[0;34m=\u001b[0m \u001b[0;34m{\u001b[0m\u001b[0;34m}\u001b[0m\u001b[0;34m\u001b[0m\u001b[0;34m\u001b[0m\u001b[0m\n\u001b[1;32m    195\u001b[0m         \u001b[0;32mif\u001b[0m \u001b[0mfile_path\u001b[0m\u001b[0;34m:\u001b[0m\u001b[0;34m\u001b[0m\u001b[0;34m\u001b[0m\u001b[0m\n\u001b[0;32m--> 196\u001b[0;31m             \u001b[0mself\u001b[0m\u001b[0;34m.\u001b[0m\u001b[0mload_robot_models\u001b[0m\u001b[0;34m(\u001b[0m\u001b[0mfile_path\u001b[0m\u001b[0;34m,\u001b[0m \u001b[0mest_par\u001b[0m\u001b[0;34m)\u001b[0m\u001b[0;34m\u001b[0m\u001b[0;34m\u001b[0m\u001b[0m\n\u001b[0m\u001b[1;32m    197\u001b[0m \u001b[0;34m\u001b[0m\u001b[0m\n\u001b[1;32m    198\u001b[0m     \u001b[0;32mdef\u001b[0m \u001b[0mcreate_robot_dict\u001b[0m\u001b[0;34m(\u001b[0m\u001b[0mself\u001b[0m\u001b[0;34m,\u001b[0m \u001b[0mrobot_path\u001b[0m\u001b[0;34m)\u001b[0m\u001b[0;34m:\u001b[0m\u001b[0;34m\u001b[0m\u001b[0;34m\u001b[0m\u001b[0m\n",
      "\u001b[0;32m~/converging/full_state_estimator/robot.py\u001b[0m in \u001b[0;36mload_robot_models\u001b[0;34m(self, filepath, est_pars)\u001b[0m\n\u001b[1;32m    225\u001b[0m             \u001b[0mkey\u001b[0m \u001b[0;34m=\u001b[0m \u001b[0mvalue\u001b[0m\u001b[0;34m[\u001b[0m\u001b[0;34m'model'\u001b[0m\u001b[0;34m]\u001b[0m\u001b[0;34m\u001b[0m\u001b[0;34m\u001b[0m\u001b[0m\n\u001b[1;32m    226\u001b[0m             \u001b[0mprint\u001b[0m\u001b[0;34m(\u001b[0m\u001b[0;34mf\"loading model: {key}\"\u001b[0m\u001b[0;34m)\u001b[0m\u001b[0;34m\u001b[0m\u001b[0;34m\u001b[0m\u001b[0m\n\u001b[0;32m--> 227\u001b[0;31m             \u001b[0mmodel\u001b[0m \u001b[0;34m=\u001b[0m \u001b[0mRobot\u001b[0m\u001b[0;34m(\u001b[0m\u001b[0mvalue\u001b[0m\u001b[0;34m,\u001b[0m \u001b[0mest_pars\u001b[0m\u001b[0;34m)\u001b[0m\u001b[0;34m\u001b[0m\u001b[0;34m\u001b[0m\u001b[0m\n\u001b[0m\u001b[1;32m    228\u001b[0m             \u001b[0mself\u001b[0m\u001b[0;34m.\u001b[0m\u001b[0mparam_dict\u001b[0m\u001b[0;34m[\u001b[0m\u001b[0mkey\u001b[0m\u001b[0;34m]\u001b[0m \u001b[0;34m=\u001b[0m \u001b[0mmodel\u001b[0m\u001b[0;34m\u001b[0m\u001b[0;34m\u001b[0m\u001b[0m\n\u001b[1;32m    229\u001b[0m \u001b[0;34m\u001b[0m\u001b[0m\n",
      "\u001b[0;32m~/converging/full_state_estimator/robot.py\u001b[0m in \u001b[0;36m__init__\u001b[0;34m(self, par, opt_pars, est_pars, flag)\u001b[0m\n\u001b[1;32m     33\u001b[0m         \u001b[0mself\u001b[0m\u001b[0;34m.\u001b[0m\u001b[0mfric_model\u001b[0m \u001b[0;34m=\u001b[0m \u001b[0mpar\u001b[0m\u001b[0;34m[\u001b[0m\u001b[0;34m'fric_model'\u001b[0m\u001b[0;34m]\u001b[0m\u001b[0;34m\u001b[0m\u001b[0;34m\u001b[0m\u001b[0m\n\u001b[1;32m     34\u001b[0m \u001b[0;34m\u001b[0m\u001b[0m\n\u001b[0;32m---> 35\u001b[0;31m         \u001b[0mself\u001b[0m\u001b[0;34m.\u001b[0m\u001b[0mbuild_disc_dyn\u001b[0m\u001b[0;34m(\u001b[0m\u001b[0mpar\u001b[0m\u001b[0;34m[\u001b[0m\u001b[0;34m'h'\u001b[0m\u001b[0;34m]\u001b[0m\u001b[0;34m,\u001b[0m \u001b[0mopt_pars\u001b[0m\u001b[0;34m)\u001b[0m\u001b[0;34m\u001b[0m\u001b[0;34m\u001b[0m\u001b[0m\n\u001b[0m\u001b[1;32m     36\u001b[0m \u001b[0;34m\u001b[0m\u001b[0m\n\u001b[1;32m     37\u001b[0m \u001b[0;34m\u001b[0m\u001b[0m\n",
      "\u001b[0;32m~/converging/full_state_estimator/robot.py\u001b[0m in \u001b[0;36mbuild_disc_dyn\u001b[0;34m(self, h, opt_pars)\u001b[0m\n\u001b[1;32m    159\u001b[0m         \u001b[0mC_new\u001b[0m \u001b[0;34m=\u001b[0m \u001b[0mca\u001b[0m\u001b[0;34m.\u001b[0m\u001b[0mvertcat\u001b[0m\u001b[0;34m(\u001b[0m\u001b[0mself\u001b[0m\u001b[0;34m.\u001b[0m\u001b[0mC_positions\u001b[0m\u001b[0;34m,\u001b[0m \u001b[0mC\u001b[0m\u001b[0;34m)\u001b[0m  \u001b[0;31m# build new observation matrix with joint positions and torques\u001b[0m\u001b[0;34m\u001b[0m\u001b[0;34m\u001b[0m\u001b[0m\n\u001b[1;32m    160\u001b[0m         \u001b[0mfn_dict\u001b[0m\u001b[0;34m[\u001b[0m\u001b[0;34m'C'\u001b[0m\u001b[0;34m]\u001b[0m \u001b[0;34m=\u001b[0m \u001b[0mC_new\u001b[0m  \u001b[0;31m# add new tuple to the dictionary for new state dependent observation matrix\u001b[0m\u001b[0;34m\u001b[0m\u001b[0;34m\u001b[0m\u001b[0m\n\u001b[0;32m--> 161\u001b[0;31m         self.C_torques = ca.Function('C', {k: fn_dict[k] for k in ('A', 'xi',  *opt_pars.keys())},\n\u001b[0m\u001b[1;32m    162\u001b[0m                              ['xi', *opt_pars.keys()], ['C'], self.jit_options).expand()  # build new casadi function for new observation matrix\n\u001b[1;32m    163\u001b[0m \u001b[0;34m\u001b[0m\u001b[0m\n",
      "\u001b[0;32m~/.local/lib/python3.8/site-packages/casadi/casadi.py\u001b[0m in \u001b[0;36m__init__\u001b[0;34m(self, *args)\u001b[0m\n\u001b[1;32m  13556\u001b[0m \u001b[0;34m\u001b[0m\u001b[0m\n\u001b[1;32m  13557\u001b[0m         \"\"\"\n\u001b[0;32m> 13558\u001b[0;31m         \u001b[0mthis\u001b[0m \u001b[0;34m=\u001b[0m \u001b[0m_casadi\u001b[0m\u001b[0;34m.\u001b[0m\u001b[0mnew_Function\u001b[0m\u001b[0;34m(\u001b[0m\u001b[0;34m*\u001b[0m\u001b[0margs\u001b[0m\u001b[0;34m)\u001b[0m\u001b[0;34m\u001b[0m\u001b[0;34m\u001b[0m\u001b[0m\n\u001b[0m\u001b[1;32m  13559\u001b[0m         \u001b[0;32mtry\u001b[0m\u001b[0;34m:\u001b[0m\u001b[0;34m\u001b[0m\u001b[0;34m\u001b[0m\u001b[0m\n\u001b[1;32m  13560\u001b[0m             \u001b[0mself\u001b[0m\u001b[0;34m.\u001b[0m\u001b[0mthis\u001b[0m\u001b[0;34m.\u001b[0m\u001b[0mappend\u001b[0m\u001b[0;34m(\u001b[0m\u001b[0mthis\u001b[0m\u001b[0;34m)\u001b[0m\u001b[0;34m\u001b[0m\u001b[0;34m\u001b[0m\u001b[0m\n",
      "\u001b[0;31mRuntimeError\u001b[0m: .../casadi/core/function.cpp:207: Unknown dictionary entry: 'A'"
     ]
    }
   ],
   "source": [
    "from robot import RobotDict\n",
    "from decision_vars import *\n",
    "import casadi as ca\n",
    "\n",
    "H = 5     # num MPC steps\n",
    "R = 0.1   # control weight in cost function\n",
    "dt = 0.01 # time step in sec for discretized dynamics\n",
    "\n",
    "solver_opts = {\"print_time\":False,\n",
    "               \"ipopt.print_level\":0,\n",
    "               \"ipopt.tol\":1.0e-5,\n",
    "               \"ipopt.acceptable_constr_viol_tol\":2.0e-04,\n",
    "               \"ipopt.linear_solver\":'MUMPS',\n",
    "               \"ipopt.warm_start_init_point\":\"yes\",\n",
    "               \"ipopt.warm_start_bound_frac\":1.0e-09,\n",
    "               \"ipopt.warm_start_bound_push\":1.0e-09,\n",
    "              }\n",
    "\n",
    "robots = RobotDict(\"config_files/franka.yaml\", [\"config_files/contact.yaml\", \"config_files/free_space.yaml\"], {})\n",
    "robot = robots.param_dict['contact']\n",
    "\n",
    "robot.build_disc_dyn(dt, {}) # Rebuild dyn with larger step size\n",
    "\n",
    "nq = robot.nq\n",
    "nx = 2*robot.nq\n",
    "qd = np.ones((nq,1))\n",
    "\n",
    "# Make the parameters, which are fixed numerical values which can be updated in each solve\n",
    "params_init = dict(xi_t = np.zeros((2*robot.nq, 1)))\n",
    "params = param_set(params_init, symb_type = ca.SX.sym)\n",
    "\n",
    "# Make the decision variables, which are optimized\n",
    "vars_init =  dict(tau = np.zeros((nq, H)),\n",
    "                  xi = np.zeros((nx, H-1)))\n",
    "vars_lb = dict(tau = -np.ones((nq, H)))\n",
    "vars_ub = {k:-v for k,v in vars_lb.items()}\n",
    "vars = decision_var_set(x0 = vars_init, lb = vars_lb, ub = vars_ub)\n",
    "\n",
    "g = [] # lists for the constraints and it's bounds\n",
    "J = 0  # objective function\n",
    "\n",
    "dyn = robot.disc_dyn\n",
    "\n",
    "xi = ca.horzcat(params_init['xi_t'], vars['xi']) # using parameter for initial state\n",
    "#xi = ca.horzcat(np.zeros((nx,1)), vars['xi']) # some issue with parameters, just setting initial state to zero\n",
    "xi_next = dyn(xi, vars['tau'])\n",
    "print(xi_next.shape)\n",
    "g += [ca.reshape(xi_next[:,:-1]-vars['xi'][:,:], nx*(H-1), 1)]\n",
    "J += ca.sumsqr(qd-xi_next[:nq,:])\n",
    "J += ca.sumsqr(xi_next[nq:,:])\n",
    "J += ca.sumsqr(R*vars['tau'])\n",
    "\n",
    "x, x_lb, x_ub = vars.get_dec_vectors()\n",
    "x0 = vars.get_x0()\n",
    "#print(args[\"x0\"].shape)\n",
    "args = dict(x0=x0, lbx=x_lb, ubx=x_ub)\n",
    "#print(args)\n",
    "prob = dict(f=J, x=x, g=ca.vertcat(*g))#, p=params.get_vector())\n",
    "solver = ca.nlpsol('solver', 'ipopt', prob, solver_opts)"
   ]
  },
  {
   "cell_type": "code",
   "execution_count": 2,
   "metadata": {},
   "outputs": [
    {
     "name": "stdout",
     "output_type": "stream",
     "text": [
      "\n",
      "******************************************************************************\n",
      "This program contains Ipopt, a library for large-scale nonlinear optimization.\n",
      " Ipopt is released as open source code under the Eclipse Public License (EPL).\n",
      "         For more information visit http://projects.coin-or.org/Ipopt\n",
      "******************************************************************************\n",
      "\n",
      "Cold start time:  0.012607067001226824 sec\n",
      "Cold start rate:  79.32059057849757 Hz\n",
      "Warm start rate: 303.460852390218 Hz\n"
     ]
    }
   ],
   "source": [
    "import time\n",
    "import numpy as np\n",
    "\n",
    "N = 100\n",
    "times = []\n",
    "\n",
    "xi_init = 0.01*ca.DM.ones((nx,1))\n",
    "\n",
    "for i in range(N):\n",
    "    #args['p'] = xi_init #+ 0.01*np.random.randn(nx)\n",
    "    tic = time.perf_counter()\n",
    "    sol = solver(**args)\n",
    "    times.append(time.perf_counter()-tic)\n",
    "    #print(args[\"x0\"].shape)\n",
    "    # Save solution + lagrangian for warm start\n",
    "    args['x0'] = sol['x']\n",
    "    #print(sol[\"x\"])\n",
    "    args['lam_x0'] = sol['lam_x']\n",
    "    args['lam_g0'] = sol['lam_g']\n",
    "    #print(sol)\n",
    "    vars.set_results(sol['x'])\n",
    "    #print(vars['tau'])\n",
    "print(f'Cold start time:  {times[0]} sec')\n",
    "print(f'Cold start rate:  {1/times[0]} Hz')\n",
    "print(f'Warm start rate: {1/np.mean(times[1:])} Hz')"
   ]
  },
  {
   "cell_type": "code",
   "execution_count": null,
   "metadata": {},
   "outputs": [],
   "source": []
  }
 ],
 "metadata": {
  "kernelspec": {
   "display_name": "Python 3",
   "language": "python",
   "name": "python3"
  },
  "language_info": {
   "codemirror_mode": {
    "name": "ipython",
    "version": 3
   },
   "file_extension": ".py",
   "mimetype": "text/x-python",
   "name": "python",
   "nbconvert_exporter": "python",
   "pygments_lexer": "ipython3",
   "version": "3.8.10"
  }
 },
 "nbformat": 4,
 "nbformat_minor": 5
}
