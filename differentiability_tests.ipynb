{
 "cells": [
  {
   "cell_type": "code",
   "execution_count": 1,
   "id": "f96f1dea",
   "metadata": {},
   "outputs": [],
   "source": [
    "%load_ext autoreload\n",
    "%autoreload 2"
   ]
  },
  {
   "cell_type": "code",
   "execution_count": 9,
   "id": "96f1d528",
   "metadata": {},
   "outputs": [
    {
     "name": "stdout",
     "output_type": "stream",
     "text": [
      "loading model: contact\n",
      "Building robot model with:\n",
      "  contact model(s):  ['contact_1']\n",
      "  optimization pars: {}\n",
      "  estimation pars:   {}\n",
      "@1=0.0825, @2=cos(q_0), @3=cos(q_1), @4=sin(q_0), @5=2.22045e-16, @6=sin(q_1), @7=(@5*@6), @8=((@2*@3)-(@4*@7)), @9=cos(q_2), @10=(@5*@3), @11=((@2*@6)+(@4*@10)), @12=sin(q_2), @13=(@5*@12), @14=((@8*@9)-((@11*@13)+(@4*@12))), @15=-0.316, @16=-0.0825, @17=cos(q_3), @18=(@11-(@5*@4)), @19=sin(q_3), @20=(@5*@9), @21=((@8*@12)+((@11*@20)+(@4*@9))), @22=(@5*@19), @23=((@14*@17)+((@18*@19)-(@21*@22))), @24=0.384, @25=(@5*@17), @26=(((@18*@17)-(@21*@25))-(@14*@19)), @27=0.088, @28=cos(q_4), @29=sin(q_4), @30=(@5*@29), @31=(@21+(@5*@18)), @32=((@23*@28)+((@26*@30)-(@31*@29))), @33=cos(q_5), @34=(@5*@28), @35=(((@26*@34)-(@31*@28))-(@23*@29)), @36=sin(q_5), @37=(@5*@36), @38=(@26+(@5*@31)), @39=0.107, @40=(@5*@33), @41=((@5*((@5*@38)-@35))-(((@35*@40)+(@38*@33))-(@32*@36))), @42=0.05, @43=((@2*@10)-(@4*@6)), @44=((@4*@3)+(@2*@7)), @45=((@44*@9)+((@43*@13)+(@2*@12))), @46=(((@43*@20)+(@2*@9))-(@44*@12)), @47=((@5*@2)-@43), @48=((@45*@17)+((@46*@22)+(@47*@19))), @49=(((@46*@25)+(@47*@17))-(@45*@19)), @50=((@5*@47)-@46), @51=((@48*@28)+((@49*@30)-(@50*@29))), @52=(((@49*@34)-(@50*@28))-(@48*@29)), @53=(@49+(@5*@50)), @54=((@5*((@5*@53)-@52))-(((@52*@40)+(@53*@33))-(@51*@36))), @55=(((@5*@12)-(@3*@13))-(@6*@9)), @56=((@6*@12)+((@5*@9)-(@3*@20))), @57=(@3+4.93038e-32), @58=((@55*@17)+((@56*@22)+(@57*@19))), @59=(((@56*@25)+(@57*@17))-(@55*@19)), @60=((@5*@57)-@56), @61=((@58*@28)+((@59*@30)-(@60*@29))), @62=(((@59*@34)-(@60*@28))-(@58*@29)), @63=(@59+(@5*@60)), @64=((@5*((@5*@63)-@62))-(((@62*@40)+(@63*@33))-(@61*@36))), [((((((@1*@14)-(@15*@11))+((@16*@23)+(@24*@26)))+(@27*((@32*@33)+((@35*@37)+(@38*@36)))))+(@39*@41))+(@42*@41)), ((((((@15*@43)+(@1*@45))+((@16*@48)+(@24*@49)))+(@27*((@51*@33)+((@52*@37)+(@53*@36)))))+(@39*@54))+(@42*@54)), ((((((0.333-(@15*@3))+(@1*@55))+((@16*@58)+(@24*@59)))+(@27*((@61*@33)+((@62*@37)+(@63*@36)))))+(@39*@64))+(@42*@64))]\n",
      "loading model: free-space\n",
      "Building robot model with:\n",
      "  contact model(s):  ['contact_1']\n",
      "  optimization pars: {}\n",
      "  estimation pars:   {}\n",
      "@1=0.0825, @2=cos(q_0), @3=cos(q_1), @4=sin(q_0), @5=2.22045e-16, @6=sin(q_1), @7=(@5*@6), @8=((@2*@3)-(@4*@7)), @9=cos(q_2), @10=(@5*@3), @11=((@2*@6)+(@4*@10)), @12=sin(q_2), @13=(@5*@12), @14=((@8*@9)-((@11*@13)+(@4*@12))), @15=-0.316, @16=-0.0825, @17=cos(q_3), @18=(@11-(@5*@4)), @19=sin(q_3), @20=(@5*@9), @21=((@8*@12)+((@11*@20)+(@4*@9))), @22=(@5*@19), @23=((@14*@17)+((@18*@19)-(@21*@22))), @24=0.384, @25=(@5*@17), @26=(((@18*@17)-(@21*@25))-(@14*@19)), @27=0.088, @28=cos(q_4), @29=sin(q_4), @30=(@5*@29), @31=(@21+(@5*@18)), @32=((@23*@28)+((@26*@30)-(@31*@29))), @33=cos(q_5), @34=(@5*@28), @35=(((@26*@34)-(@31*@28))-(@23*@29)), @36=sin(q_5), @37=(@5*@36), @38=(@26+(@5*@31)), @39=((@32*@33)+((@35*@37)+(@38*@36))), @40=0.107, @41=((@5*@38)-@35), @42=(@5*@33), @43=(((@35*@42)+(@38*@33))-(@32*@36)), @44=((@5*@41)-@43), @45=cos(q_6), @46=sin(q_6), @47=(@5*@46), @48=(@5*@45), @49=((@2*@10)-(@4*@6)), @50=((@4*@3)+(@2*@7)), @51=((@50*@9)+((@49*@13)+(@2*@12))), @52=(((@49*@20)+(@2*@9))-(@50*@12)), @53=((@5*@2)-@49), @54=((@51*@17)+((@52*@22)+(@53*@19))), @55=(((@52*@25)+(@53*@17))-(@51*@19)), @56=((@5*@53)-@52), @57=((@54*@28)+((@55*@30)-(@56*@29))), @58=(((@55*@34)-(@56*@28))-(@54*@29)), @59=(@55+(@5*@56)), @60=((@57*@33)+((@58*@37)+(@59*@36))), @61=((@5*@59)-@58), @62=(((@58*@42)+(@59*@33))-(@57*@36)), @63=((@5*@61)-@62), @64=(((@5*@12)-(@3*@13))-(@6*@9)), @65=((@6*@12)+((@5*@9)-(@3*@20))), @66=(@3+4.93038e-32), @67=((@64*@17)+((@65*@22)+(@66*@19))), @68=(((@65*@25)+(@66*@17))-(@64*@19)), @69=((@5*@66)-@65), @70=((@67*@28)+((@68*@30)-(@69*@29))), @71=(((@68*@34)-(@69*@28))-(@67*@29)), @72=(@68+(@5*@69)), @73=((@70*@33)+((@71*@37)+(@72*@36))), @74=((@5*@72)-@71), @75=(((@71*@42)+(@72*@33))-(@70*@36)), @76=((@5*@74)-@75), [((((((@1*@14)-(@15*@11))+((@16*@23)+(@24*@26)))+(@27*@39))+(@40*@44))+((((@39*@45)+((@43*@47)+(@41*@46)))+(((@43*@48)+(@41*@45))-(@39*@46)))+@44)), ((((((@15*@49)+(@1*@51))+((@16*@54)+(@24*@55)))+(@27*@60))+(@40*@63))+((((@60*@45)+((@62*@47)+(@61*@46)))+(((@62*@48)+(@61*@45))-(@60*@46)))+@63)), ((((((0.333-(@15*@3))+(@1*@64))+((@16*@67)+(@24*@68)))+(@27*@73))+(@40*@76))+((((@73*@45)+((@75*@47)+(@74*@46)))+(((@75*@48)+(@74*@45))-(@73*@46)))+@76))]\n"
     ]
    },
    {
     "ename": "RuntimeError",
     "evalue": ".../casadi/core/function_internal.hpp:1257: Input 0 (q) has mismatching shape. Got 2-by-7. Allowed dimensions, in general, are:\n - The input dimension N-by-M (here 7-by-1)\n - A scalar, i.e. 1-by-1\n - M-by-N if N=1 or M=1 (i.e. a transposed vector)\n - N-by-M1 if K*M1=M for some K (argument repeated horizontally)\n - N-by-P*M, indicating evaluation with multiple arguments (P must be a multiple of 1 for consistency with previous inputs)",
     "output_type": "error",
     "traceback": [
      "\u001b[0;31m---------------------------------------------------------------------------\u001b[0m",
      "\u001b[0;31mRuntimeError\u001b[0m                              Traceback (most recent call last)",
      "Input \u001b[0;32mIn [9]\u001b[0m, in \u001b[0;36m<cell line: 6>\u001b[0;34m()\u001b[0m\n\u001b[1;32m      4\u001b[0m q \u001b[38;5;241m=\u001b[39m np\u001b[38;5;241m.\u001b[39marray([\u001b[38;5;241m-\u001b[39m\u001b[38;5;241m0.58\u001b[39m, \u001b[38;5;241m0.54\u001b[39m, \u001b[38;5;241m-\u001b[39m\u001b[38;5;241m0.39\u001b[39m, \u001b[38;5;241m-\u001b[39m\u001b[38;5;241m1.83\u001b[39m, \u001b[38;5;241m0.27\u001b[39m, \u001b[38;5;241m2.35\u001b[39m, \u001b[38;5;241m-\u001b[39m\u001b[38;5;241m2.68\u001b[39m])\n\u001b[1;32m      5\u001b[0m rob\u001b[38;5;241m.\u001b[39mfwd_kin(q)\n\u001b[0;32m----> 6\u001b[0m \u001b[43mrob\u001b[49m\u001b[38;5;241;43m.\u001b[39;49m\u001b[43mget_statedict\u001b[49m\u001b[43m(\u001b[49m\u001b[43mnp\u001b[49m\u001b[38;5;241;43m.\u001b[39;49m\u001b[43mvstack\u001b[49m\u001b[43m(\u001b[49m\u001b[43m(\u001b[49m\u001b[43mq\u001b[49m\u001b[43m,\u001b[49m\u001b[43m \u001b[49m\u001b[43mnp\u001b[49m\u001b[38;5;241;43m.\u001b[39;49m\u001b[43mzeros\u001b[49m\u001b[43m(\u001b[49m\u001b[38;5;241;43m7\u001b[39;49m\u001b[43m)\u001b[49m\u001b[43m)\u001b[49m\u001b[43m)\u001b[49m\u001b[43m)\u001b[49m\n",
      "File \u001b[0;32m~/full-state-estimator/robot.py:42\u001b[0m, in \u001b[0;36mRobot.get_statedict\u001b[0;34m(self, xi)\u001b[0m\n\u001b[1;32m     37\u001b[0m \u001b[38;5;28;01mdef\u001b[39;00m \u001b[38;5;21mget_statedict\u001b[39m(\u001b[38;5;28mself\u001b[39m, xi):\n\u001b[1;32m     38\u001b[0m     \u001b[38;5;66;03m# Maps from a vector xi to a state dictionary\u001b[39;00m\n\u001b[1;32m     39\u001b[0m     d \u001b[38;5;241m=\u001b[39m {\u001b[38;5;124m'\u001b[39m\u001b[38;5;124mq\u001b[39m\u001b[38;5;124m'\u001b[39m:xi[:\u001b[38;5;28mself\u001b[39m\u001b[38;5;241m.\u001b[39mnq],\n\u001b[1;32m     40\u001b[0m          \u001b[38;5;124m'\u001b[39m\u001b[38;5;124mdq\u001b[39m\u001b[38;5;124m'\u001b[39m:xi[\u001b[38;5;28mself\u001b[39m\u001b[38;5;241m.\u001b[39mnq:\u001b[38;5;241m2\u001b[39m\u001b[38;5;241m*\u001b[39m\u001b[38;5;28mself\u001b[39m\u001b[38;5;241m.\u001b[39mnq],\n\u001b[1;32m     41\u001b[0m          \u001b[38;5;124m'\u001b[39m\u001b[38;5;124mxi\u001b[39m\u001b[38;5;124m'\u001b[39m:xi}\n\u001b[0;32m---> 42\u001b[0m     d\u001b[38;5;241m.\u001b[39mupdate(\u001b[38;5;28;43mself\u001b[39;49m\u001b[38;5;241;43m.\u001b[39;49m\u001b[43mcontact\u001b[49m\u001b[38;5;241;43m.\u001b[39;49m\u001b[43mget_statedict\u001b[49m\u001b[43m(\u001b[49m\u001b[43md\u001b[49m\u001b[43m[\u001b[49m\u001b[38;5;124;43m'\u001b[39;49m\u001b[38;5;124;43mq\u001b[39;49m\u001b[38;5;124;43m'\u001b[39;49m\u001b[43m]\u001b[49m\u001b[43m,\u001b[49m\u001b[43m \u001b[49m\u001b[43md\u001b[49m\u001b[43m[\u001b[49m\u001b[38;5;124;43m'\u001b[39;49m\u001b[38;5;124;43mdq\u001b[39;49m\u001b[38;5;124;43m'\u001b[39;49m\u001b[43m]\u001b[49m\u001b[43m,\u001b[49m\u001b[43m \u001b[49m\u001b[43mxi\u001b[49m\u001b[43m[\u001b[49m\u001b[38;5;241;43m2\u001b[39;49m\u001b[38;5;241;43m*\u001b[39;49m\u001b[38;5;28;43mself\u001b[39;49m\u001b[38;5;241;43m.\u001b[39;49m\u001b[43mnq\u001b[49m\u001b[43m:\u001b[49m\u001b[43m]\u001b[49m\u001b[43m)\u001b[49m)\n\u001b[1;32m     43\u001b[0m     \u001b[38;5;28;01mreturn\u001b[39;00m d\n",
      "File \u001b[0;32m~/full-state-estimator/contact.py:78\u001b[0m, in \u001b[0;36mContact.get_statedict\u001b[0;34m(self, q, dq, sym_pars_vec)\u001b[0m\n\u001b[1;32m     75\u001b[0m     d[par] \u001b[38;5;241m=\u001b[39m sym_pars_vec[st:st\u001b[38;5;241m+\u001b[39m\u001b[38;5;241m3\u001b[39m]\n\u001b[1;32m     76\u001b[0m     st \u001b[38;5;241m+\u001b[39m\u001b[38;5;241m=\u001b[39m \u001b[38;5;241m3\u001b[39m\n\u001b[0;32m---> 78\u001b[0m contact_info \u001b[38;5;241m=\u001b[39m \u001b[38;5;28;43mself\u001b[39;49m\u001b[38;5;241;43m.\u001b[39;49m\u001b[43mcontact_info\u001b[49m\u001b[38;5;241;43m.\u001b[39;49m\u001b[43mcall\u001b[49m\u001b[43m(\u001b[49m\u001b[43md\u001b[49m\u001b[43m)\u001b[49m\n\u001b[1;32m     79\u001b[0m d\u001b[38;5;241m.\u001b[39mupdate(contact_info)\n\u001b[1;32m     80\u001b[0m force \u001b[38;5;241m=\u001b[39m \u001b[38;5;241m0\u001b[39m\n",
      "File \u001b[0;32m/usr/lib/python3/dist-packages/casadi/casadi.py:7679\u001b[0m, in \u001b[0;36mFunction.call\u001b[0;34m(self, *args)\u001b[0m\n\u001b[1;32m   7656\u001b[0m \u001b[38;5;28;01mdef\u001b[39;00m \u001b[38;5;21mcall\u001b[39m(\u001b[38;5;28mself\u001b[39m, \u001b[38;5;241m*\u001b[39margs) \u001b[38;5;241m-\u001b[39m\u001b[38;5;241m>\u001b[39m \u001b[38;5;124m\"\u001b[39m\u001b[38;5;124mvoid\u001b[39m\u001b[38;5;124m\"\u001b[39m:\n\u001b[1;32m   7657\u001b[0m \u001b[38;5;250m    \u001b[39m\u001b[38;5;124mr\u001b[39m\u001b[38;5;124;03m\"\"\"\u001b[39;00m\n\u001b[1;32m   7658\u001b[0m \u001b[38;5;124;03m    call(Function self, std::vector< casadi::DM,std::allocator< casadi::DM > > const & arg, bool always_inline=False, bool never_inline=False)\u001b[39;00m\n\u001b[1;32m   7659\u001b[0m \u001b[38;5;124;03m    call(Function self, std::vector< casadi::SX,std::allocator< casadi::SX > > const & arg, bool always_inline=False, bool never_inline=False)\u001b[39;00m\n\u001b[0;32m   (...)\u001b[0m\n\u001b[1;32m   7677\u001b[0m \n\u001b[1;32m   7678\u001b[0m \u001b[38;5;124;03m    \"\"\"\u001b[39;00m\n\u001b[0;32m-> 7679\u001b[0m     \u001b[38;5;28;01mreturn\u001b[39;00m \u001b[43m_casadi\u001b[49m\u001b[38;5;241;43m.\u001b[39;49m\u001b[43mFunction_call\u001b[49m\u001b[43m(\u001b[49m\u001b[38;5;28;43mself\u001b[39;49m\u001b[43m,\u001b[49m\u001b[43m \u001b[49m\u001b[38;5;241;43m*\u001b[39;49m\u001b[43margs\u001b[49m\u001b[43m)\u001b[49m\n",
      "\u001b[0;31mRuntimeError\u001b[0m: .../casadi/core/function_internal.hpp:1257: Input 0 (q) has mismatching shape. Got 2-by-7. Allowed dimensions, in general, are:\n - The input dimension N-by-M (here 7-by-1)\n - A scalar, i.e. 1-by-1\n - M-by-N if N=1 or M=1 (i.e. a transposed vector)\n - N-by-M1 if K*M1=M for some K (argument repeated horizontally)\n - N-by-P*M, indicating evaluation with multiple arguments (P must be a multiple of 1 for consistency with previous inputs)"
     ]
    }
   ],
   "source": [
    "from robot import *\n",
    "robots = RobotDict(\"config_files/franka.yaml\", [\"config_files/contact.yaml\", \"config_files/free_space.yaml\"]).param_dict\n",
    "rob = robots['contact']\n",
    "q = np.array([-0.58, 0.54, -0.39, -1.83, 0.27, 2.35, -2.68])\n",
    "rob.fwd_kin(q)\n",
    "rob.get_statedict(np.vstack((q, np.zeros(7))))\n"
   ]
  },
  {
   "cell_type": "markdown",
   "id": "5f3ce358",
   "metadata": {},
   "source": [
    "This notebook tries to identify if there are issues when differentiating dynamic systems with respect to dynamic parameters.  It tries to find if there are ways to characterize when this identification is difficult, not unique, etc."
   ]
  },
  {
   "cell_type": "code",
   "execution_count": 89,
   "id": "98fea533",
   "metadata": {},
   "outputs": [],
   "source": [
    "# Make some integrators\n",
    "import casadi as ca\n",
    "from copy import deepcopy\n",
    "\n",
    "def explicit_euler(xi_d, xi, params, h):\n",
    "    return xi + h*xi_d(xi, *params)\n",
    "\n",
    "def symplectic_euler(xi_d, xi, h):\n",
    "    xi_plus = deepcopy(xi)\n",
    "    xd_plus = xi[1]+h*xi_d[1]\n",
    "    x_plus = xi[0]+h*xd_plus[1]\n",
    "    return ca.vertstack(x_plus, xd_plus)"
   ]
  },
  {
   "cell_type": "code",
   "execution_count": 96,
   "id": "e251a9f4",
   "metadata": {},
   "outputs": [
    {
     "name": "stdout",
     "output_type": "stream",
     "text": [
      "@1=-0.103, @2=0.01, @3=-0.3, @4=1, @5=-0.1, @6=(@3+(@2*((@4-((@3*B)+((x_c<@5)?(-(K*(@5-x_c))):0)))/M))), @7=(@1+(@2*@6)), @8=(@6+(@2*((@4-((B*@6)+((x_c<@1)?(-(K*(@1-x_c))):0)))/M))), @9=(@7+(@2*@8)), @10=(@8+(@2*((@4-((B*@8)+((x_c<@7)?(-(K*(@7-x_c))):0)))/M))), @11=(@9+(@2*@10)), @12=(@10+(@2*((@4-((B*@10)+((x_c<@9)?(-(K*(@9-x_c))):0)))/M))), [[(@11+(@2*@12)), (@12+(@2*((@4-((B*@12)+((x_c<@11)?(-(K*(@11-x_c))):0)))/M)))]]\n"
     ]
    }
   ],
   "source": [
    "# Have some dynamics, generate some data.\n",
    "M = ca.SX.sym('M')\n",
    "B = ca.SX.sym('B')\n",
    "K = ca.SX.sym('K')\n",
    "xi = ca.SX.sym('xi',2)\n",
    "x_c = ca.SX.sym('x_c')\n",
    "\n",
    "bias = 1\n",
    "\n",
    "params = [M, B, K, x_c]\n",
    "\n",
    "contact_force = ca.if_else(xi[0]>x_c, -K*(xi[0]-x_c), 0)\n",
    "x_dd = 1/M*(-B*xi[1] - contact_force + bias)\n",
    "xi_d = ca.Function('xdot', [xi, *params], [ca.vertcat(xi[1], x_dd)])\n",
    "\n",
    "integrator = explicit_euler\n",
    "h = 0.01\n",
    "traj = [[-0.1, -0.3]]\n",
    "\n",
    "#print(xi_d(traj[-1], *paramsp))\n",
    "#print(integrator(xi_d, traj[-1], paramsp, h))\n",
    "\n",
    "for _ in range(30):\n",
    "    traj.append(integrator(xi_d, traj[-1], params, h))\n",
    "\n",
    "\n",
    "traj_fn = ca.Function('traj', [*params], [*traj])\n",
    "traj = ca.horzcat(*traj).T\n",
    "print(traj[5,:])"
   ]
  },
  {
   "cell_type": "code",
   "execution_count": 97,
   "id": "3dcaf5ac",
   "metadata": {},
   "outputs": [
    {
     "data": {
      "image/png": "[encoded data removed]",
      "text/plain": [
       "<Figure size 432x288 with 1 Axes>"
      ]
     },
     "metadata": {
      "needs_background": "light"
     },
     "output_type": "display_data"
    }
   ],
   "source": [
    "# Eval and plot\n",
    "import matplotlib.pyplot as plt\n",
    "Mp = 1; Bp = 30; Kp = 100\n",
    "x_cp = 0.1\n",
    "paramsp = [Mp, Bp, Kp, x_cp]\n",
    "\n",
    "trajp = traj_fn(*paramsp)\n",
    "traj_pts = ca.horzcat(*trajp).T.full()\n",
    "plt.plot(traj_pts, label=\"traj\")\n",
    "\n",
    "p = B\n",
    "dx_c_fn = ca.Function('dx', [*params], [ca.jacobian(traj[:,0], p)])\n",
    "dx_c = dx_c_fn(*paramsp)\n",
    "plt.plot(dx_c, label='grad_pos')\n",
    "plt.legend()\n",
    "plt.grid(True)\n"
   ]
  },
  {
   "cell_type": "code",
   "execution_count": 1,
   "id": "76e3d6cb",
   "metadata": {},
   "outputs": [
    {
     "name": "stdout",
     "output_type": "stream",
     "text": [
      "Building robot model with:\n",
      "  contact model(s):  ['contact_1']\n",
      "  optimization pars: {}\n",
      "  estimation pars:   {}\n",
      "49.5 µs ± 114 ns per loop (mean ± std. dev. of 7 runs, 10000 loops each)\n"
     ]
    }
   ],
   "source": [
    "# Checking the impact of JIT on the performance \n",
    "from main import init_rosparams\n",
    "from robot import Robot\n",
    "from observer import ekf\n",
    "import numpy as np\n",
    "par = init_rosparams()\n",
    "dyn_sys = Robot(par)\n",
    "qm = np.ones(6)+np.random.randn(6)\n",
    "tm = -np.ones(6)+np.random.randn(6)\n",
    "\n",
    "obs = ekf(dyn_sys)\n",
    "#obs2 = ekf(par, np.ones(6), est_geom = False)\n",
    "#step_args = {'tau': np.zeros(6), 'xi': np.ones(12)}\n",
    "\n",
    "# Checking cleaned-up dynamics, speed up ~30 micsec to ~20\n",
    "#%timeit dyn_sys.disc_dyn.call(step_arg\n",
    "#%timeit dyn_sys.disc_dyn2.call(step_args)\n",
    "#res1 = dyn_sys.disc_dyn.call(step_args)\n",
    "#res2 = dyn_sys.disc_dyn_opt.call(step_args)\n",
    "#print(res1['xi_next']-res2['xi_next'])\n",
    "\n",
    "# Checking approximation to A, speedup ~120 micsec to ~30\n",
    "#%timeit dyn_sys.A_fn.call(step_args)['A']\n",
    "#%timeit dyn_sys.A_fn2.call(step_args)['A']\n",
    "#%timeit dyn_sys.A_fn3.call(step_args)['A']\n",
    "#res1 = dyn_sys.A.call(step_args)['A']\n",
    "#res3 = dyn_sys.A_opt.call(step_args)['A']\n",
    "#print(res1-res3)\n",
    "\n",
    "# Checking the optimized EKF step fn, speedup ~600 micsec to 75\n",
    "#%timeit obs.step(np.ones(6), np.ones(6))\n",
    "#%timeit obs.step_fast(np.ones(6), np.ones(6))\n",
    "#res1 = obs.step(qm, tm)\n",
    "#print(res1['cov']-res2['cov'])\n",
    "#print(res1['mu'] - res2['mu'])\n",
    "\n",
    "%timeit obs.step(np.ones(6), np.ones(6))"
   ]
  },
  {
   "cell_type": "code",
   "execution_count": 49,
   "id": "b381fe27",
   "metadata": {},
   "outputs": [
    {
     "name": "stdout",
     "output_type": "stream",
     "text": [
      "Building robot model with\n",
      "  optimization pars: {}\n",
      "  estimation pars:   {}\n"
     ]
    },
    {
     "data": {
      "text/plain": [
       "Function(disc_dyn:(xi[12],tau[6])->(xi_next[12]) SXFunction)"
      ]
     },
     "execution_count": 49,
     "metadata": {},
     "output_type": "execute_result"
    }
   ],
   "source": [
    "# Testing exporting a casadi fn\n",
    "import casadi as ca\n",
    "from main import init_rosparams\n",
    "from robot import Robot\n",
    "from observer import ekf\n",
    "import numpy as np\n",
    "par = init_rosparams()\n",
    "dyn_sys = Robot(par)\n",
    "#with open(\"disc_dyn.ca\", \"w\") as text_file:\n",
    "#    text_file.write(dyn_sys.disc_dyn.serialize())\n",
    "#with open(\"A_fn.ca\", \"w\") as text_file:\n",
    "#    text_file.write(dyn_sys.A.serialize())\n",
    "    \n",
    "with open(\"disc_dyn.ca\", \"r\") as text_file:\n",
    "    st = text_file.read()\n",
    "fn_read = ca.Function.deserialize(st)    \n",
    "\n",
    "#q2.symvar(q)"
   ]
  },
  {
   "cell_type": "markdown",
   "id": "576b9f25",
   "metadata": {},
   "source": [
    "It seems like *one* way this is unrealistic is that the trajectory is fully rolled out. If we're doing something like an EM approach (estimate state, fit dyn over the (state, state+) pairs) then some of this recursive aspects should drop out. "
   ]
  }
 ],
 "metadata": {
  "kernelspec": {
   "display_name": "Python 3 (ipykernel)",
   "language": "python",
   "name": "python3"
  },
  "language_info": {
   "codemirror_mode": {
    "name": "ipython",
    "version": 3
   },
   "file_extension": ".py",
   "mimetype": "text/x-python",
   "name": "python",
   "nbconvert_exporter": "python",
   "pygments_lexer": "ipython3",
   "version": "3.8.10"
  }
 },
 "nbformat": 4,
 "nbformat_minor": 5
}
