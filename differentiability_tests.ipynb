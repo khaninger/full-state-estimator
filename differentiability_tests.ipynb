{
 "cells": [
  {
   "cell_type": "markdown",
   "id": "03208c4c",
   "metadata": {},
   "source": [
    "This notebook tries to identify if there are issues when differentiating dynamic systems with respect to dynamic parameters.  It tries to find if there are ways to characterize when this identification is difficult, not unique, etc."
   ]
  },
  {
   "cell_type": "code",
   "execution_count": 89,
   "id": "4ba5019d",
   "metadata": {},
   "outputs": [],
   "source": [
    "# Make some integrators\n",
    "import casadi as ca\n",
    "from copy import deepcopy\n",
    "\n",
    "def explicit_euler(xi_d, xi, params, h):\n",
    "    return xi + h*xi_d(xi, *params)\n",
    "\n",
    "def symplectic_euler(xi_d, xi, h):\n",
    "    xi_plus = deepcopy(xi)\n",
    "    xd_plus = xi[1]+h*xi_d[1]\n",
    "    x_plus = xi[0]+h*xd_plus[1]\n",
    "    return ca.vertstack(x_plus, xd_plus)"
   ]
  },
  {
   "cell_type": "code",
   "execution_count": 90,
   "id": "d22e6e41",
   "metadata": {},
   "outputs": [],
   "source": [
    "# Have some dynamics, generate some data.\n",
    "M = ca.SX.sym('M')\n",
    "B = ca.SX.sym('B')\n",
    "K = ca.SX.sym('K')\n",
    "xi = ca.SX.sym('xi',2)\n",
    "x_c = ca.SX.sym('x_c')\n",
    "\n",
    "bias = 1\n",
    "\n",
    "params = [M, B, K, x_c]\n",
    "\n",
    "contact_force = ca.if_else(xi[0]>x_c, -K*(xi[0]-x_c), 0)\n",
    "x_dd = 1/M*(-B*xi[1] - contact_force + bias)\n",
    "xi_d = ca.Function('xdot', [xi, *params], [ca.vertcat(xi[1], x_dd)])\n",
    "\n",
    "integrator = explicit_euler\n",
    "h = 0.01\n",
    "traj = [[0, -0.3]]\n",
    "\n",
    "#print(xi_d(traj[-1], *paramsp))\n",
    "#print(integrator(xi_d, traj[-1], paramsp, h))\n",
    "\n",
    "for _ in range(30):\n",
    "    traj.append(integrator(xi_d, traj[-1], params, h))\n",
    "\n",
    "\n",
    "traj_fn = ca.Function('traj', [*params], [*traj])\n",
    "traj = ca.horzcat(*traj).T"
   ]
  },
  {
   "cell_type": "code",
   "execution_count": 92,
   "id": "238d1983",
   "metadata": {},
   "outputs": [
    {
     "data": {
      "image/png": "[encoded data removed]",
      "text/plain": [
       "<Figure size 432x288 with 1 Axes>"
      ]
     },
     "metadata": {
      "needs_background": "light"
     },
     "output_type": "display_data"
    }
   ],
   "source": [
    "# Eval and plot\n",
    "import matplotlib.pyplot as plt\n",
    "Mp = 1; Bp = 50; Kp = 100\n",
    "x_cp = 0.1\n",
    "paramsp = [Mp, Bp, Kp, x_cp]\n",
    "\n",
    "trajp = traj_fn(*paramsp)\n",
    "traj_pts = ca.horzcat(*trajp).T.full()\n",
    "plt.plot(traj_pts, label=\"traj\")\n",
    "\n",
    "p = M\n",
    "dx_c_fn = ca.Function('dx', [*params], [ca.jacobian(traj[:,0], p)])\n",
    "dx_c = dx_c_fn(*paramsp)\n",
    "plt.plot(dx_c, label='grad_pos')\n",
    "plt.legend()\n",
    "plt.grid(True)\n"
   ]
  },
  {
   "cell_type": "code",
   "execution_count": 86,
   "id": "3425ff98",
   "metadata": {},
   "outputs": [
    {
     "name": "stdout",
     "output_type": "stream",
     "text": [
      "1\n"
     ]
    }
   ],
   "source": [
    "print(ca.if_else(False, 0, 1))"
   ]
  }
 ],
 "metadata": {
  "kernelspec": {
   "display_name": "Python 3 (ipykernel)",
   "language": "python",
   "name": "python3"
  },
  "language_info": {
   "codemirror_mode": {
    "name": "ipython",
    "version": 3
   },
   "file_extension": ".py",
   "mimetype": "text/x-python",
   "name": "python",
   "nbconvert_exporter": "python",
   "pygments_lexer": "ipython3",
   "version": "3.8.10"
  }
 },
 "nbformat": 4,
 "nbformat_minor": 5
}
