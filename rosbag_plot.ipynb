{
 "cells": [
  {
   "cell_type": "code",
   "execution_count": 2,
   "metadata": {},
   "outputs": [],
   "source": [
    "import matplotlib.pyplot as plt\n",
    "import numpy as np"
   ]
  },
  {
   "cell_type": "code",
   "execution_count": 1,
   "metadata": {},
   "outputs": [
    {
     "name": "stderr",
     "output_type": "stream",
     "text": [
      "Failed to load Python extension for LZ4 support. LZ4 compression will not be available.\n"
     ]
    },
    {
     "ename": "ModuleNotFoundError",
     "evalue": "No module named 'matplotlib'",
     "output_type": "error",
     "traceback": [
      "\u001b[0;31m---------------------------------------------------------------------------\u001b[0m",
      "\u001b[0;31mModuleNotFoundError\u001b[0m                       Traceback (most recent call last)",
      "\u001b[0;32m<ipython-input-1-61688a720998>\u001b[0m in \u001b[0;36m<module>\u001b[0;34m()\u001b[0m\n\u001b[1;32m      4\u001b[0m \u001b[0;32mimport\u001b[0m \u001b[0mrosbag\u001b[0m\u001b[0;34m\u001b[0m\u001b[0;34m\u001b[0m\u001b[0m\n\u001b[1;32m      5\u001b[0m \u001b[0;32mimport\u001b[0m \u001b[0mnumpy\u001b[0m \u001b[0;32mas\u001b[0m \u001b[0mnp\u001b[0m\u001b[0;34m\u001b[0m\u001b[0;34m\u001b[0m\u001b[0m\n\u001b[0;32m----> 6\u001b[0;31m \u001b[0;32mimport\u001b[0m \u001b[0mmatplotlib\u001b[0m\u001b[0;34m.\u001b[0m\u001b[0mpyplot\u001b[0m \u001b[0;32mas\u001b[0m \u001b[0mplt\u001b[0m\u001b[0;34m\u001b[0m\u001b[0;34m\u001b[0m\u001b[0m\n\u001b[0m\u001b[1;32m      7\u001b[0m \u001b[0;32mfrom\u001b[0m \u001b[0mcopy\u001b[0m \u001b[0;32mimport\u001b[0m \u001b[0mdeepcopy\u001b[0m\u001b[0;34m\u001b[0m\u001b[0;34m\u001b[0m\u001b[0m\n\u001b[1;32m      8\u001b[0m \u001b[0;34m\u001b[0m\u001b[0m\n",
      "\u001b[0;31mModuleNotFoundError\u001b[0m: No module named 'matplotlib'"
     ]
    }
   ],
   "source": [
    "# Set up helper functions\n",
    "from sensor_msgs.msg import JointState\n",
    "from std_msgs.msg import Float64MultiArray\n",
    "import rosbag\n",
    "import numpy as np\n",
    "import matplotlib.pyplot as plt\n",
    "from copy import deepcopy\n",
    "\n",
    "def bag_loader(path, map_and_append_msg, topic_name = 'robot_state', normalize = ''):\n",
    "    bag = rosbag.Bag(path)\n",
    "    num_obs = bag.get_message_count(topic_name)\n",
    "    if num_obs == 0:\n",
    "        topic_name = '/'+topic_name\n",
    "        num_obs = bag.get_message_count(topic_name)\n",
    "    print('Loading ros bag {}  with {} msgs on topic {}'.format(path, num_obs, topic_name))\n",
    "\n",
    "    msgs = {}\n",
    "    t = []\n",
    "    for _, msg, t_ros in bag.read_messages(topics=[topic_name]):\n",
    "        t.append(t_ros.to_sec())\n",
    "        map_and_append_msg(msg, msgs)\n",
    "    t = [tt-t[0] for tt in t]\n",
    "\n",
    "    msgs_in_order = {}\n",
    "    for key in msgs.keys():\n",
    "        t_in_order, el_in_order = zip(*sorted(zip(t,msgs[key])))\n",
    "        msgs_in_order[key] = np.array(el_in_order).T\n",
    "    msgs_in_order['t'] = t_in_order\n",
    "    \n",
    "    if normalize != '':\n",
    "        msgs_in_order[normalize] = (msgs_in_order[normalize].T-msgs_in_order[normlize][:,0]).T\n",
    "        \n",
    "    return msgs_in_order\n",
    "\n",
    "def get_aligned_msgs(msgs1, msgs2):\n",
    "    ''' \n",
    "    Select entries from msgs2 which occured most recently before msgs1\n",
    "    '''\n",
    "    aligned_msgs2 = {key:[] for key in msgs2.keys()}\n",
    "    t2 = np.array(msgs2['t'])\n",
    "    for t1 in msgs1['t']:\n",
    "        last_before_t1 = np.where(t2<=t1)[0][-1] # find last time in t which is \n",
    "        for key in msgs2.keys():\n",
    "            if key == 't': continue\n",
    "            aligned_msgs2[key].append(msgs2[key][:,last_before_t1])\n",
    "\n",
    "    for key in msgs2.keys():\n",
    "        aligned_msgs2[key] = np.array(aligned_msgs2[key]).T\n",
    "    \n",
    "    return aligned_msgs2\n",
    "\n",
    "def map_robot_state(msg, prev_msgs):\n",
    "    if len(prev_msgs) == 0:\n",
    "        for el in ('pos', 'vel', 'force'):\n",
    "            prev_msgs[el] = []\n",
    "    prev_msgs['pos'].append(msg.position)\n",
    "    prev_msgs['vel'].append(msg.velocity)\n",
    "    prev_msgs['force'].append(msg.effort)\n",
    "    return prev_msgs\n",
    "\n",
    "def map_joint_state(msg, prev_msgs):\n",
    "    if len(prev_msgs) == 0:\n",
    "        for el in ('pos', 'vel', 'torque'):\n",
    "            prev_msgs[el] = []\n",
    "    prev_msgs['pos'].append(msg.position)\n",
    "    prev_msgs['vel'].append(msg.velocity)\n",
    "    prev_msgs['torque'].append(msg.effort)\n",
    "    return prev_msgs"
   ]
  },
  {
   "cell_type": "code",
   "execution_count": 2,
   "metadata": {},
   "outputs": [
    {
     "ename": "NameError",
     "evalue": "name 'plt' is not defined",
     "output_type": "error",
     "traceback": [
      "\u001b[0;31m---------------------------------------------------------------------------\u001b[0m",
      "\u001b[0;31mNameError\u001b[0m                                 Traceback (most recent call last)",
      "Input \u001b[0;32mIn [2]\u001b[0m, in \u001b[0;36m<cell line: 3>\u001b[0;34m()\u001b[0m\n\u001b[1;32m      1\u001b[0m bag \u001b[38;5;241m=\u001b[39m \u001b[38;5;124m'\u001b[39m\u001b[38;5;124mdata/valid.bag\u001b[39m\u001b[38;5;124m'\u001b[39m\n\u001b[0;32m----> 3\u001b[0m fig, axs \u001b[38;5;241m=\u001b[39m \u001b[43mplt\u001b[49m\u001b[38;5;241m.\u001b[39msubplots(\u001b[38;5;241m2\u001b[39m, figsize\u001b[38;5;241m=\u001b[39m(\u001b[38;5;241m10\u001b[39m,\u001b[38;5;241m8\u001b[39m))\n\u001b[1;32m      4\u001b[0m fig\u001b[38;5;241m.\u001b[39msuptitle(\u001b[38;5;124m\"\u001b[39m\u001b[38;5;124mEstimator joint states\u001b[39m\u001b[38;5;124m\"\u001b[39m)\n\u001b[1;32m      5\u001b[0m cols \u001b[38;5;241m=\u001b[39m [\u001b[38;5;124m'\u001b[39m\u001b[38;5;124mr\u001b[39m\u001b[38;5;124m'\u001b[39m, \u001b[38;5;124m'\u001b[39m\u001b[38;5;124mb\u001b[39m\u001b[38;5;124m'\u001b[39m, \u001b[38;5;124m'\u001b[39m\u001b[38;5;124mk\u001b[39m\u001b[38;5;124m'\u001b[39m, \u001b[38;5;124m'\u001b[39m\u001b[38;5;124mr:\u001b[39m\u001b[38;5;124m'\u001b[39m, \u001b[38;5;124m'\u001b[39m\u001b[38;5;124mb:\u001b[39m\u001b[38;5;124m'\u001b[39m, \u001b[38;5;124m'\u001b[39m\u001b[38;5;124mk:\u001b[39m\u001b[38;5;124m'\u001b[39m]\n",
      "\u001b[0;31mNameError\u001b[0m: name 'plt' is not defined"
     ]
    }
   ],
   "source": [
    "bag = 'data/valid.bag'\n",
    "\n",
    "fig, axs = plt.subplots(2, figsize=(10,8))\n",
    "fig.suptitle(\"Estimator joint states\")\n",
    "cols = ['r', 'b', 'k', 'r:', 'b:', 'k:']\n",
    "cm = plt.get_cmap('tab10')\n",
    "msgs = bag_loader(bag, map_joint_state, topic_name = 'joint_state')\n",
    "q = msgs['pos']\n",
    "dq = msgs['vel']\n",
    "t = msgs['t']\n",
    "msgs = bag_loader(bag, map_joint_state, topic_name = 'observer_jt')\n",
    "q_hat = msgs['pos']\n",
    "dq_hat = msgs['vel']\n",
    "t_hat = msgs['t']\n",
    "\n",
    "for ind in range(6):\n",
    "    col = cm(ind)\n",
    "    axs[0].plot(t, q[ind,:], color = col, label = 'Jt {}'.format(ind+1))\n",
    "    axs[0].plot(t_hat, q_hat[ind,:], color = col, linestyle = 'dotted')\n",
    "    #axs[1].plot(t, dq[ind,:], col)\n",
    "    axs[1].plot(t_hat, dq_hat[ind,:], color = col, linestyle = 'dotted')\n",
    "\n",
    "axs[0].legend()\n",
    "for i in range(2): axs[i].grid(True)\n",
    "plt.xlabel('Time (sec)')\n",
    "axs[0].set(ylabel='Position (rad)', title = 'Position')\n",
    "axs[1].set(ylabel='Velocity (rad/s))', title = 'Velocity')\n",
    "\n",
    "plt.show()"
   ]
  },
  {
   "cell_type": "code",
   "execution_count": 3,
   "metadata": {},
   "outputs": [
    {
     "name": "stdout",
     "output_type": "stream",
     "text": [
      "Using matplotlib backend: GTK3Agg\n"
     ]
    }
   ],
   "source": [
    "# Plotting the positoin and orientation of the robot and the estimated contact point\n",
    "import pickle\n",
    "%matplotlib\n",
    "traj = 'data/racer_rotate_long_2.pkl'\n",
    "\n",
    "scale = 0.1\n",
    "\n",
    "fig = plt.figure(figsize=(8,8))\n",
    "ax = fig.add_subplot(projection=\"3d\")\n",
    "with open(traj, 'rb') as f:\n",
    "    _, _, x_is, x_ees = pickle.load(f)\n",
    "\n",
    "num_pts = x_is.shape[1]\n",
    "pos_last = x_ees[0][0]\n",
    "min_dist = 0.008\n",
    "for xi, xee in zip(x_is.T, x_ees):\n",
    "    p = np.array(xee[0]).flatten()\n",
    "    \n",
    "    o = np.array(xee[1])\n",
    "    if np.linalg.norm(p[:3] - pos_last[:3]) < min_dist:\n",
    "        continue\n",
    "    else:\n",
    "        pos_last = p\n",
    "    x = o[0,:]\n",
    "    y = o[1,:]\n",
    "    z = o[2,:]\n",
    "    ax.plot([p[0], p[0]+scale*x[0]],\n",
    "            [p[1], p[1]+scale*x[1]],\n",
    "            [p[2], p[2]+scale*x[2]],\n",
    "            'r', linewidth=2)[0]\n",
    "    ax.plot([p[0], p[0]+scale*y[0]],\n",
    "            [p[1], p[1]+scale*y[1]],\n",
    "            [p[2], p[2]+scale*y[2]],\n",
    "            'g', linewidth=2)[0]\n",
    "    ax.plot([p[0], p[0]+scale*z[0]],\n",
    "            [p[1], p[1]+scale*z[1]],\n",
    "            [p[2], p[2]+scale*z[2]],\n",
    "            'b', linewidth=2)[0]\n",
    "\n",
    "    ax.plot(xi[0], xi[1], xi[2], c = 'r', marker = 'o', ms = 10)[0]\n",
    "plt.tight_layout()\n",
    "plt.xlabel('x (meter)')\n",
    "plt.ylabel('y')\n",
    "ax.view_init(elev=10., azim=90.)\n",
    "plt.subplots_adjust(left=-0.11, right=1.11, bottom=0.0, top=1)\n",
    "plt.show()"
   ]
  },
  {
   "cell_type": "code",
   "execution_count": null,
   "metadata": {},
   "outputs": [],
   "source": []
  }
 ],
 "metadata": {
  "kernelspec": {
   "display_name": "Python 3",
   "language": "python",
   "name": "python3"
  },
  "language_info": {
   "codemirror_mode": {
    "name": "ipython",
    "version": 3
   },
   "file_extension": ".py",
   "mimetype": "text/x-python",
   "name": "python",
   "nbconvert_exporter": "python",
   "pygments_lexer": "ipython3",
   "version": "3.6.9"
  }
 },
 "nbformat": 4,
 "nbformat_minor": 5
}
