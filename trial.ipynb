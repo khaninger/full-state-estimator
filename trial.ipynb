{
 "cells": [
  {
   "cell_type": "code",
   "execution_count": 4,
   "metadata": {},
   "outputs": [
    {
     "name": "stdout",
     "output_type": "stream",
     "text": [
      "loading model: contact\n",
      "Building robot model with:\n",
      "  contact model(s):  ['contact_1']\n",
      "  optimization pars: {}\n",
      "  estimation pars:   {}\n",
      "loading model: free\n",
      "Building robot model with:\n",
      "  contact model(s):  ['contact_1']\n",
      "  optimization pars: {}\n",
      "  estimation pars:   {}\n",
      "[-0.384906, 0.258846, -0.765709]\n",
      "[0.390601, -0.357744, 0.333042]\n",
      "[0.373198, -0.345257, 0.293446]\n"
     ]
    }
   ],
   "source": [
    "from robot import RobotDict\n",
    "from decision_vars import *\n",
    "import casadi as ca\n",
    "import numpy as np\n",
    "import colorednoise\n",
    "\n",
    "\n",
    "\n",
    "H = 5\n",
    "R = 0.1\n",
    "dt = 0.05\n",
    "nq = 7\n",
    "num_particles = 80\n",
    "robots = RobotDict(\"config_files/franka.yaml\", [\"config_files/contact.yaml\", \"config_files/free_space.yaml\"], {}).param_dict\n",
    "robot = robots['free']\n",
    "robot.disc_dyn_mpc(dt, {})\n",
    "imp_dyn = robot.dyn_mpc\n",
    "des_pose = np.array((0.3999, -0.36963, 0.04195))\n",
    "imp_stiff = np.array((200, 200, 200))\n",
    "xi = np.array((0.08599, 0.1178, -0.833, -2.22882, 0.03989, 2.2591, 0.05647, 0, 0, 0, 0, 0, 0, 0))\n",
    "imp_rest = np.array((0.39, -0.35, -0.7))\n",
    "xi_next = imp_dyn(xi, imp_rest, imp_stiff, des_pose)[0]\n",
    "tcp_motion = robot.get_tcp_motion(xi_next[:nq], xi_next[-nq:])[0]\n",
    "tcp_vel = robot.get_tcp_motion(xi_next[:nq], xi_next[-nq:])[1]\n",
    "print(tcp_vel)\n",
    "tcp_pos = tcp_motion[0]\n",
    "original = robot.get_tcp_motion(xi[:nq], xi[-nq:])[0]\n",
    "original_pos = original[0]\n",
    "print(original_pos)\n",
    "print(tcp_pos)"
   ]
  },
  {
   "cell_type": "code",
   "execution_count": 10,
   "metadata": {},
   "outputs": [
    {
     "name": "stdout",
     "output_type": "stream",
     "text": [
      "\n",
      "[[00, 00, 00], \n",
      " [00, 00, 00], \n",
      " [00, 00, 00], \n",
      " [00, 00, 00], \n",
      " [00, 00, 00], \n",
      " [00, 00, 00]]\n"
     ]
    },
    {
     "ename": "NotImplementedError",
     "evalue": "Wrong number or type of arguments for overloaded function 'norm_0_mul'.\n  Possible prototypes are:\n    norm_0_mul(Sparsity,Sparsity)\n    norm_0_mul(DM,DM)\n    norm_0_mul(SX,SX)\n    norm_0_mul(MX,MX)\n  You have: '(DM)'\n",
     "output_type": "error",
     "traceback": [
      "\u001b[0;31m---------------------------------------------------------------------------\u001b[0m",
      "\u001b[0;31mNotImplementedError\u001b[0m                       Traceback (most recent call last)",
      "\u001b[0;32m<ipython-input-10-56497d1ee375>\u001b[0m in \u001b[0;36m<module>\u001b[0;34m\u001b[0m\n\u001b[1;32m      1\u001b[0m \u001b[0mtrial\u001b[0m \u001b[0;34m=\u001b[0m \u001b[0mca\u001b[0m\u001b[0;34m.\u001b[0m\u001b[0mDM\u001b[0m\u001b[0;34m(\u001b[0m\u001b[0;36m3\u001b[0m\u001b[0;34m,\u001b[0m \u001b[0;36m6\u001b[0m\u001b[0;34m)\u001b[0m\u001b[0;34m.\u001b[0m\u001b[0mT\u001b[0m\u001b[0;34m\u001b[0m\u001b[0;34m\u001b[0m\u001b[0m\n\u001b[1;32m      2\u001b[0m \u001b[0mprint\u001b[0m\u001b[0;34m(\u001b[0m\u001b[0mtrial\u001b[0m\u001b[0;34m)\u001b[0m\u001b[0;34m\u001b[0m\u001b[0;34m\u001b[0m\u001b[0m\n\u001b[0;32m----> 3\u001b[0;31m \u001b[0mnorm\u001b[0m \u001b[0;34m=\u001b[0m \u001b[0mca\u001b[0m\u001b[0;34m.\u001b[0m\u001b[0mnorm_0_mul\u001b[0m\u001b[0;34m(\u001b[0m\u001b[0mtrial\u001b[0m\u001b[0;34m)\u001b[0m\u001b[0;34m\u001b[0m\u001b[0;34m\u001b[0m\u001b[0m\n\u001b[0m\u001b[1;32m      4\u001b[0m \u001b[0mprint\u001b[0m\u001b[0;34m(\u001b[0m\u001b[0mnorm\u001b[0m\u001b[0;34m)\u001b[0m\u001b[0;34m\u001b[0m\u001b[0;34m\u001b[0m\u001b[0m\n",
      "\u001b[0;32m~/.local/lib/python3.8/site-packages/casadi/casadi.py\u001b[0m in \u001b[0;36mnorm_0_mul\u001b[0;34m(*args)\u001b[0m\n\u001b[1;32m  20442\u001b[0m \u001b[0;34m\u001b[0m\u001b[0m\n\u001b[1;32m  20443\u001b[0m     \"\"\"\n\u001b[0;32m> 20444\u001b[0;31m     \u001b[0;32mreturn\u001b[0m \u001b[0m_casadi\u001b[0m\u001b[0;34m.\u001b[0m\u001b[0mnorm_0_mul\u001b[0m\u001b[0;34m(\u001b[0m\u001b[0;34m*\u001b[0m\u001b[0margs\u001b[0m\u001b[0;34m)\u001b[0m\u001b[0;34m\u001b[0m\u001b[0;34m\u001b[0m\u001b[0m\n\u001b[0m\u001b[1;32m  20445\u001b[0m \u001b[0;34m\u001b[0m\u001b[0m\n\u001b[1;32m  20446\u001b[0m \u001b[0;32mdef\u001b[0m \u001b[0mtriu\u001b[0m\u001b[0;34m(\u001b[0m\u001b[0;34m*\u001b[0m\u001b[0margs\u001b[0m\u001b[0;34m)\u001b[0m \u001b[0;34m->\u001b[0m \u001b[0;34m\"casadi::Matrix< casadi::SXElem >\"\u001b[0m\u001b[0;34m:\u001b[0m\u001b[0;34m\u001b[0m\u001b[0;34m\u001b[0m\u001b[0m\n",
      "\u001b[0;31mNotImplementedError\u001b[0m: Wrong number or type of arguments for overloaded function 'norm_0_mul'.\n  Possible prototypes are:\n    norm_0_mul(Sparsity,Sparsity)\n    norm_0_mul(DM,DM)\n    norm_0_mul(SX,SX)\n    norm_0_mul(MX,MX)\n  You have: '(DM)'\n"
     ]
    }
   ],
   "source": []
  },
  {
   "cell_type": "code",
   "execution_count": null,
   "metadata": {},
   "outputs": [],
   "source": []
  }
 ],
 "metadata": {
  "kernelspec": {
   "display_name": "Python 3",
   "language": "python",
   "name": "python3"
  },
  "language_info": {
   "codemirror_mode": {
    "name": "ipython",
    "version": 3
   },
   "file_extension": ".py",
   "mimetype": "text/x-python",
   "name": "python",
   "nbconvert_exporter": "python",
   "pygments_lexer": "ipython3",
   "version": "3.8.10"
  }
 },
 "nbformat": 4,
 "nbformat_minor": 4
}
