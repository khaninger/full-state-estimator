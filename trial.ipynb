{
 "cells": [
  {
   "cell_type": "code",
   "execution_count": 1,
   "metadata": {},
   "outputs": [
    {
     "name": "stdout",
     "output_type": "stream",
     "text": [
      "loading model: contact\n",
      "Building robot model with:\n",
      "  contact model(s):  ['contact_1']\n",
      "  optimization pars: {}\n",
      "  estimation pars:   {}\n",
      "loading model: free-space\n",
      "Building robot model with:\n",
      "  contact model(s):  ['contact_1']\n",
      "  optimization pars: {}\n",
      "  estimation pars:   {}\n"
     ]
    }
   ],
   "source": [
    "from robot import RobotDict\n",
    "from decision_vars import *\n",
    "import casadi as ca\n",
    "import numpy as np\n",
    "import colorednoise\n",
    "\n",
    "H = 5\n",
    "R = 0.1\n",
    "dt = 0.01\n",
    "num_particles = 30\n",
    "robots = RobotDict(\"config_files/franka.yaml\", [\"config_files/contact.yaml\", \"config_files/free_space.yaml\"], {}).param_dict\n",
    "robot = robots['contact']\n",
    "roll = robot.create_rollout(H)\n",
    "\n"
   ]
  },
  {
   "cell_type": "code",
   "execution_count": 13,
   "metadata": {},
   "outputs": [
    {
     "name": "stdout",
     "output_type": "stream",
     "text": [
      "(10, 2)\n"
     ]
    }
   ],
   "source": [
    "trial_list = []\n",
    "for i in range(10):\n",
    "    trial_list.append((np.zeros(4), 'trial'))\n",
    "    \n",
    "\n",
    "trial_dict = {'list_part': trial_list}\n",
    "#print(trial_dict)\n",
    "trial_array = np.asarray(trial_list, dtype=object)\n",
    "print(trial_array.shape)"
   ]
  },
  {
   "cell_type": "code",
   "execution_count": null,
   "metadata": {},
   "outputs": [],
   "source": []
  }
 ],
 "metadata": {
  "kernelspec": {
   "display_name": "Python 3",
   "language": "python",
   "name": "python3"
  },
  "language_info": {
   "codemirror_mode": {
    "name": "ipython",
    "version": 3
   },
   "file_extension": ".py",
   "mimetype": "text/x-python",
   "name": "python",
   "nbconvert_exporter": "python",
   "pygments_lexer": "ipython3",
   "version": "3.8.10"
  }
 },
 "nbformat": 4,
 "nbformat_minor": 4
}
